{
  "nbformat": 4,
  "nbformat_minor": 0,
  "metadata": {
    "colab": {
      "name": "INF8460-PROJET",
      "provenance": [],
      "collapsed_sections": [],
      "toc_visible": true
    },
    "kernelspec": {
      "name": "python3",
      "display_name": "Python 3"
    },
    "widgets": {
      "application/vnd.jupyter.widget-state+json": {
        "39200104b10f4e269da9c49cd88d5047": {
          "model_module": "@jupyter-widgets/controls",
          "model_name": "HBoxModel",
          "state": {
            "_view_name": "HBoxView",
            "_dom_classes": [],
            "_model_name": "HBoxModel",
            "_view_module": "@jupyter-widgets/controls",
            "_model_module_version": "1.5.0",
            "_view_count": null,
            "_view_module_version": "1.5.0",
            "box_style": "",
            "layout": "IPY_MODEL_4c3d9135243a4cd190266a8b147cd6ee",
            "_model_module": "@jupyter-widgets/controls",
            "children": [
              "IPY_MODEL_eb0ff657807b4088bcdafd74ac152455",
              "IPY_MODEL_cbb70e4c84d740409918a70329e4dab3"
            ]
          }
        },
        "4c3d9135243a4cd190266a8b147cd6ee": {
          "model_module": "@jupyter-widgets/base",
          "model_name": "LayoutModel",
          "state": {
            "_view_name": "LayoutView",
            "grid_template_rows": null,
            "right": null,
            "justify_content": null,
            "_view_module": "@jupyter-widgets/base",
            "overflow": null,
            "_model_module_version": "1.2.0",
            "_view_count": null,
            "flex_flow": null,
            "width": null,
            "min_width": null,
            "border": null,
            "align_items": null,
            "bottom": null,
            "_model_module": "@jupyter-widgets/base",
            "top": null,
            "grid_column": null,
            "overflow_y": null,
            "overflow_x": null,
            "grid_auto_flow": null,
            "grid_area": null,
            "grid_template_columns": null,
            "flex": null,
            "_model_name": "LayoutModel",
            "justify_items": null,
            "grid_row": null,
            "max_height": null,
            "align_content": null,
            "visibility": null,
            "align_self": null,
            "height": null,
            "min_height": null,
            "padding": null,
            "grid_auto_rows": null,
            "grid_gap": null,
            "max_width": null,
            "order": null,
            "_view_module_version": "1.2.0",
            "grid_template_areas": null,
            "object_position": null,
            "object_fit": null,
            "grid_auto_columns": null,
            "margin": null,
            "display": null,
            "left": null
          }
        },
        "eb0ff657807b4088bcdafd74ac152455": {
          "model_module": "@jupyter-widgets/controls",
          "model_name": "FloatProgressModel",
          "state": {
            "_view_name": "ProgressView",
            "style": "IPY_MODEL_60bc3577f5ea41168bbf87e24565cc2e",
            "_dom_classes": [],
            "description": "100%",
            "_model_name": "FloatProgressModel",
            "bar_style": "success",
            "max": 10000,
            "_view_module": "@jupyter-widgets/controls",
            "_model_module_version": "1.5.0",
            "value": 10000,
            "_view_count": null,
            "_view_module_version": "1.5.0",
            "orientation": "horizontal",
            "min": 0,
            "description_tooltip": null,
            "_model_module": "@jupyter-widgets/controls",
            "layout": "IPY_MODEL_05670e773cb74f25b1fa98cee4ef17d9"
          }
        },
        "cbb70e4c84d740409918a70329e4dab3": {
          "model_module": "@jupyter-widgets/controls",
          "model_name": "HTMLModel",
          "state": {
            "_view_name": "HTMLView",
            "style": "IPY_MODEL_fafed56d2fde4635b731e58d55af2c34",
            "_dom_classes": [],
            "description": "",
            "_model_name": "HTMLModel",
            "placeholder": "​",
            "_view_module": "@jupyter-widgets/controls",
            "_model_module_version": "1.5.0",
            "value": " 10000/10000 [15:25&lt;00:00, 10.81it/s]",
            "_view_count": null,
            "_view_module_version": "1.5.0",
            "description_tooltip": null,
            "_model_module": "@jupyter-widgets/controls",
            "layout": "IPY_MODEL_65d417040c114b6e9cbe330ac197c364"
          }
        },
        "60bc3577f5ea41168bbf87e24565cc2e": {
          "model_module": "@jupyter-widgets/controls",
          "model_name": "ProgressStyleModel",
          "state": {
            "_view_name": "StyleView",
            "_model_name": "ProgressStyleModel",
            "description_width": "initial",
            "_view_module": "@jupyter-widgets/base",
            "_model_module_version": "1.5.0",
            "_view_count": null,
            "_view_module_version": "1.2.0",
            "bar_color": null,
            "_model_module": "@jupyter-widgets/controls"
          }
        },
        "05670e773cb74f25b1fa98cee4ef17d9": {
          "model_module": "@jupyter-widgets/base",
          "model_name": "LayoutModel",
          "state": {
            "_view_name": "LayoutView",
            "grid_template_rows": null,
            "right": null,
            "justify_content": null,
            "_view_module": "@jupyter-widgets/base",
            "overflow": null,
            "_model_module_version": "1.2.0",
            "_view_count": null,
            "flex_flow": null,
            "width": null,
            "min_width": null,
            "border": null,
            "align_items": null,
            "bottom": null,
            "_model_module": "@jupyter-widgets/base",
            "top": null,
            "grid_column": null,
            "overflow_y": null,
            "overflow_x": null,
            "grid_auto_flow": null,
            "grid_area": null,
            "grid_template_columns": null,
            "flex": null,
            "_model_name": "LayoutModel",
            "justify_items": null,
            "grid_row": null,
            "max_height": null,
            "align_content": null,
            "visibility": null,
            "align_self": null,
            "height": null,
            "min_height": null,
            "padding": null,
            "grid_auto_rows": null,
            "grid_gap": null,
            "max_width": null,
            "order": null,
            "_view_module_version": "1.2.0",
            "grid_template_areas": null,
            "object_position": null,
            "object_fit": null,
            "grid_auto_columns": null,
            "margin": null,
            "display": null,
            "left": null
          }
        },
        "fafed56d2fde4635b731e58d55af2c34": {
          "model_module": "@jupyter-widgets/controls",
          "model_name": "DescriptionStyleModel",
          "state": {
            "_view_name": "StyleView",
            "_model_name": "DescriptionStyleModel",
            "description_width": "",
            "_view_module": "@jupyter-widgets/base",
            "_model_module_version": "1.5.0",
            "_view_count": null,
            "_view_module_version": "1.2.0",
            "_model_module": "@jupyter-widgets/controls"
          }
        },
        "65d417040c114b6e9cbe330ac197c364": {
          "model_module": "@jupyter-widgets/base",
          "model_name": "LayoutModel",
          "state": {
            "_view_name": "LayoutView",
            "grid_template_rows": null,
            "right": null,
            "justify_content": null,
            "_view_module": "@jupyter-widgets/base",
            "overflow": null,
            "_model_module_version": "1.2.0",
            "_view_count": null,
            "flex_flow": null,
            "width": null,
            "min_width": null,
            "border": null,
            "align_items": null,
            "bottom": null,
            "_model_module": "@jupyter-widgets/base",
            "top": null,
            "grid_column": null,
            "overflow_y": null,
            "overflow_x": null,
            "grid_auto_flow": null,
            "grid_area": null,
            "grid_template_columns": null,
            "flex": null,
            "_model_name": "LayoutModel",
            "justify_items": null,
            "grid_row": null,
            "max_height": null,
            "align_content": null,
            "visibility": null,
            "align_self": null,
            "height": null,
            "min_height": null,
            "padding": null,
            "grid_auto_rows": null,
            "grid_gap": null,
            "max_width": null,
            "order": null,
            "_view_module_version": "1.2.0",
            "grid_template_areas": null,
            "object_position": null,
            "object_fit": null,
            "grid_auto_columns": null,
            "margin": null,
            "display": null,
            "left": null
          }
        },
        "cfc6693759374102a63bc6835d2e94c7": {
          "model_module": "@jupyter-widgets/controls",
          "model_name": "HBoxModel",
          "state": {
            "_view_name": "HBoxView",
            "_dom_classes": [],
            "_model_name": "HBoxModel",
            "_view_module": "@jupyter-widgets/controls",
            "_model_module_version": "1.5.0",
            "_view_count": null,
            "_view_module_version": "1.5.0",
            "box_style": "",
            "layout": "IPY_MODEL_dee3b8f60b1f4a269893b3ddbb643b14",
            "_model_module": "@jupyter-widgets/controls",
            "children": [
              "IPY_MODEL_7f3a4c7e58ba4a1f894713949ae0cad9",
              "IPY_MODEL_cbf1bd1cd7c54aa1aef04e5e248c4ce4"
            ]
          }
        },
        "dee3b8f60b1f4a269893b3ddbb643b14": {
          "model_module": "@jupyter-widgets/base",
          "model_name": "LayoutModel",
          "state": {
            "_view_name": "LayoutView",
            "grid_template_rows": null,
            "right": null,
            "justify_content": null,
            "_view_module": "@jupyter-widgets/base",
            "overflow": null,
            "_model_module_version": "1.2.0",
            "_view_count": null,
            "flex_flow": null,
            "width": null,
            "min_width": null,
            "border": null,
            "align_items": null,
            "bottom": null,
            "_model_module": "@jupyter-widgets/base",
            "top": null,
            "grid_column": null,
            "overflow_y": null,
            "overflow_x": null,
            "grid_auto_flow": null,
            "grid_area": null,
            "grid_template_columns": null,
            "flex": null,
            "_model_name": "LayoutModel",
            "justify_items": null,
            "grid_row": null,
            "max_height": null,
            "align_content": null,
            "visibility": null,
            "align_self": null,
            "height": null,
            "min_height": null,
            "padding": null,
            "grid_auto_rows": null,
            "grid_gap": null,
            "max_width": null,
            "order": null,
            "_view_module_version": "1.2.0",
            "grid_template_areas": null,
            "object_position": null,
            "object_fit": null,
            "grid_auto_columns": null,
            "margin": null,
            "display": null,
            "left": null
          }
        },
        "7f3a4c7e58ba4a1f894713949ae0cad9": {
          "model_module": "@jupyter-widgets/controls",
          "model_name": "FloatProgressModel",
          "state": {
            "_view_name": "ProgressView",
            "style": "IPY_MODEL_bdded9a4901b43b79e44541ab4da11ca",
            "_dom_classes": [],
            "description": "100%",
            "_model_name": "FloatProgressModel",
            "bar_style": "success",
            "max": 100,
            "_view_module": "@jupyter-widgets/controls",
            "_model_module_version": "1.5.0",
            "value": 100,
            "_view_count": null,
            "_view_module_version": "1.5.0",
            "orientation": "horizontal",
            "min": 0,
            "description_tooltip": null,
            "_model_module": "@jupyter-widgets/controls",
            "layout": "IPY_MODEL_d4b0601539f64eb8b4b07ce62cc6fdf0"
          }
        },
        "cbf1bd1cd7c54aa1aef04e5e248c4ce4": {
          "model_module": "@jupyter-widgets/controls",
          "model_name": "HTMLModel",
          "state": {
            "_view_name": "HTMLView",
            "style": "IPY_MODEL_ef82601235d34a16a434467c6ed797fb",
            "_dom_classes": [],
            "description": "",
            "_model_name": "HTMLModel",
            "placeholder": "​",
            "_view_module": "@jupyter-widgets/controls",
            "_model_module_version": "1.5.0",
            "value": " 100/100 [06:16&lt;00:00,  3.77s/it]",
            "_view_count": null,
            "_view_module_version": "1.5.0",
            "description_tooltip": null,
            "_model_module": "@jupyter-widgets/controls",
            "layout": "IPY_MODEL_adfd723887ed464493e12a419aace7c6"
          }
        },
        "bdded9a4901b43b79e44541ab4da11ca": {
          "model_module": "@jupyter-widgets/controls",
          "model_name": "ProgressStyleModel",
          "state": {
            "_view_name": "StyleView",
            "_model_name": "ProgressStyleModel",
            "description_width": "initial",
            "_view_module": "@jupyter-widgets/base",
            "_model_module_version": "1.5.0",
            "_view_count": null,
            "_view_module_version": "1.2.0",
            "bar_color": null,
            "_model_module": "@jupyter-widgets/controls"
          }
        },
        "d4b0601539f64eb8b4b07ce62cc6fdf0": {
          "model_module": "@jupyter-widgets/base",
          "model_name": "LayoutModel",
          "state": {
            "_view_name": "LayoutView",
            "grid_template_rows": null,
            "right": null,
            "justify_content": null,
            "_view_module": "@jupyter-widgets/base",
            "overflow": null,
            "_model_module_version": "1.2.0",
            "_view_count": null,
            "flex_flow": null,
            "width": null,
            "min_width": null,
            "border": null,
            "align_items": null,
            "bottom": null,
            "_model_module": "@jupyter-widgets/base",
            "top": null,
            "grid_column": null,
            "overflow_y": null,
            "overflow_x": null,
            "grid_auto_flow": null,
            "grid_area": null,
            "grid_template_columns": null,
            "flex": null,
            "_model_name": "LayoutModel",
            "justify_items": null,
            "grid_row": null,
            "max_height": null,
            "align_content": null,
            "visibility": null,
            "align_self": null,
            "height": null,
            "min_height": null,
            "padding": null,
            "grid_auto_rows": null,
            "grid_gap": null,
            "max_width": null,
            "order": null,
            "_view_module_version": "1.2.0",
            "grid_template_areas": null,
            "object_position": null,
            "object_fit": null,
            "grid_auto_columns": null,
            "margin": null,
            "display": null,
            "left": null
          }
        },
        "ef82601235d34a16a434467c6ed797fb": {
          "model_module": "@jupyter-widgets/controls",
          "model_name": "DescriptionStyleModel",
          "state": {
            "_view_name": "StyleView",
            "_model_name": "DescriptionStyleModel",
            "description_width": "",
            "_view_module": "@jupyter-widgets/base",
            "_model_module_version": "1.5.0",
            "_view_count": null,
            "_view_module_version": "1.2.0",
            "_model_module": "@jupyter-widgets/controls"
          }
        },
        "adfd723887ed464493e12a419aace7c6": {
          "model_module": "@jupyter-widgets/base",
          "model_name": "LayoutModel",
          "state": {
            "_view_name": "LayoutView",
            "grid_template_rows": null,
            "right": null,
            "justify_content": null,
            "_view_module": "@jupyter-widgets/base",
            "overflow": null,
            "_model_module_version": "1.2.0",
            "_view_count": null,
            "flex_flow": null,
            "width": null,
            "min_width": null,
            "border": null,
            "align_items": null,
            "bottom": null,
            "_model_module": "@jupyter-widgets/base",
            "top": null,
            "grid_column": null,
            "overflow_y": null,
            "overflow_x": null,
            "grid_auto_flow": null,
            "grid_area": null,
            "grid_template_columns": null,
            "flex": null,
            "_model_name": "LayoutModel",
            "justify_items": null,
            "grid_row": null,
            "max_height": null,
            "align_content": null,
            "visibility": null,
            "align_self": null,
            "height": null,
            "min_height": null,
            "padding": null,
            "grid_auto_rows": null,
            "grid_gap": null,
            "max_width": null,
            "order": null,
            "_view_module_version": "1.2.0",
            "grid_template_areas": null,
            "object_position": null,
            "object_fit": null,
            "grid_auto_columns": null,
            "margin": null,
            "display": null,
            "left": null
          }
        },
        "7a12e1ada20647d5b99921d7ae2f0781": {
          "model_module": "@jupyter-widgets/controls",
          "model_name": "HBoxModel",
          "state": {
            "_view_name": "HBoxView",
            "_dom_classes": [],
            "_model_name": "HBoxModel",
            "_view_module": "@jupyter-widgets/controls",
            "_model_module_version": "1.5.0",
            "_view_count": null,
            "_view_module_version": "1.5.0",
            "box_style": "",
            "layout": "IPY_MODEL_4664d75301454308a5bf45ee1999e31e",
            "_model_module": "@jupyter-widgets/controls",
            "children": [
              "IPY_MODEL_d301c64670f045569fb8b80f92ae8885",
              "IPY_MODEL_3987ca0286ac4006b9af73646da9ae9c"
            ]
          }
        },
        "4664d75301454308a5bf45ee1999e31e": {
          "model_module": "@jupyter-widgets/base",
          "model_name": "LayoutModel",
          "state": {
            "_view_name": "LayoutView",
            "grid_template_rows": null,
            "right": null,
            "justify_content": null,
            "_view_module": "@jupyter-widgets/base",
            "overflow": null,
            "_model_module_version": "1.2.0",
            "_view_count": null,
            "flex_flow": null,
            "width": null,
            "min_width": null,
            "border": null,
            "align_items": null,
            "bottom": null,
            "_model_module": "@jupyter-widgets/base",
            "top": null,
            "grid_column": null,
            "overflow_y": null,
            "overflow_x": null,
            "grid_auto_flow": null,
            "grid_area": null,
            "grid_template_columns": null,
            "flex": null,
            "_model_name": "LayoutModel",
            "justify_items": null,
            "grid_row": null,
            "max_height": null,
            "align_content": null,
            "visibility": null,
            "align_self": null,
            "height": null,
            "min_height": null,
            "padding": null,
            "grid_auto_rows": null,
            "grid_gap": null,
            "max_width": null,
            "order": null,
            "_view_module_version": "1.2.0",
            "grid_template_areas": null,
            "object_position": null,
            "object_fit": null,
            "grid_auto_columns": null,
            "margin": null,
            "display": null,
            "left": null
          }
        },
        "d301c64670f045569fb8b80f92ae8885": {
          "model_module": "@jupyter-widgets/controls",
          "model_name": "FloatProgressModel",
          "state": {
            "_view_name": "ProgressView",
            "style": "IPY_MODEL_ebfd2e15600d4480b8bc7284ecdd10bc",
            "_dom_classes": [],
            "description": "",
            "_model_name": "FloatProgressModel",
            "bar_style": "success",
            "max": 1,
            "_view_module": "@jupyter-widgets/controls",
            "_model_module_version": "1.5.0",
            "value": 1,
            "_view_count": null,
            "_view_module_version": "1.5.0",
            "orientation": "horizontal",
            "min": 0,
            "description_tooltip": null,
            "_model_module": "@jupyter-widgets/controls",
            "layout": "IPY_MODEL_f1844d216aa148d4a2a24158eb76d905"
          }
        },
        "3987ca0286ac4006b9af73646da9ae9c": {
          "model_module": "@jupyter-widgets/controls",
          "model_name": "HTMLModel",
          "state": {
            "_view_name": "HTMLView",
            "style": "IPY_MODEL_87889d840baf476599317031a27234f9",
            "_dom_classes": [],
            "description": "",
            "_model_name": "HTMLModel",
            "placeholder": "​",
            "_view_module": "@jupyter-widgets/controls",
            "_model_module_version": "1.5.0",
            "value": " 100/? [00:50&lt;00:00,  1.97it/s]",
            "_view_count": null,
            "_view_module_version": "1.5.0",
            "description_tooltip": null,
            "_model_module": "@jupyter-widgets/controls",
            "layout": "IPY_MODEL_b9c93670a4e04b029bbd6dab867a3c10"
          }
        },
        "ebfd2e15600d4480b8bc7284ecdd10bc": {
          "model_module": "@jupyter-widgets/controls",
          "model_name": "ProgressStyleModel",
          "state": {
            "_view_name": "StyleView",
            "_model_name": "ProgressStyleModel",
            "description_width": "initial",
            "_view_module": "@jupyter-widgets/base",
            "_model_module_version": "1.5.0",
            "_view_count": null,
            "_view_module_version": "1.2.0",
            "bar_color": null,
            "_model_module": "@jupyter-widgets/controls"
          }
        },
        "f1844d216aa148d4a2a24158eb76d905": {
          "model_module": "@jupyter-widgets/base",
          "model_name": "LayoutModel",
          "state": {
            "_view_name": "LayoutView",
            "grid_template_rows": null,
            "right": null,
            "justify_content": null,
            "_view_module": "@jupyter-widgets/base",
            "overflow": null,
            "_model_module_version": "1.2.0",
            "_view_count": null,
            "flex_flow": null,
            "width": null,
            "min_width": null,
            "border": null,
            "align_items": null,
            "bottom": null,
            "_model_module": "@jupyter-widgets/base",
            "top": null,
            "grid_column": null,
            "overflow_y": null,
            "overflow_x": null,
            "grid_auto_flow": null,
            "grid_area": null,
            "grid_template_columns": null,
            "flex": null,
            "_model_name": "LayoutModel",
            "justify_items": null,
            "grid_row": null,
            "max_height": null,
            "align_content": null,
            "visibility": null,
            "align_self": null,
            "height": null,
            "min_height": null,
            "padding": null,
            "grid_auto_rows": null,
            "grid_gap": null,
            "max_width": null,
            "order": null,
            "_view_module_version": "1.2.0",
            "grid_template_areas": null,
            "object_position": null,
            "object_fit": null,
            "grid_auto_columns": null,
            "margin": null,
            "display": null,
            "left": null
          }
        },
        "87889d840baf476599317031a27234f9": {
          "model_module": "@jupyter-widgets/controls",
          "model_name": "DescriptionStyleModel",
          "state": {
            "_view_name": "StyleView",
            "_model_name": "DescriptionStyleModel",
            "description_width": "",
            "_view_module": "@jupyter-widgets/base",
            "_model_module_version": "1.5.0",
            "_view_count": null,
            "_view_module_version": "1.2.0",
            "_model_module": "@jupyter-widgets/controls"
          }
        },
        "b9c93670a4e04b029bbd6dab867a3c10": {
          "model_module": "@jupyter-widgets/base",
          "model_name": "LayoutModel",
          "state": {
            "_view_name": "LayoutView",
            "grid_template_rows": null,
            "right": null,
            "justify_content": null,
            "_view_module": "@jupyter-widgets/base",
            "overflow": null,
            "_model_module_version": "1.2.0",
            "_view_count": null,
            "flex_flow": null,
            "width": null,
            "min_width": null,
            "border": null,
            "align_items": null,
            "bottom": null,
            "_model_module": "@jupyter-widgets/base",
            "top": null,
            "grid_column": null,
            "overflow_y": null,
            "overflow_x": null,
            "grid_auto_flow": null,
            "grid_area": null,
            "grid_template_columns": null,
            "flex": null,
            "_model_name": "LayoutModel",
            "justify_items": null,
            "grid_row": null,
            "max_height": null,
            "align_content": null,
            "visibility": null,
            "align_self": null,
            "height": null,
            "min_height": null,
            "padding": null,
            "grid_auto_rows": null,
            "grid_gap": null,
            "max_width": null,
            "order": null,
            "_view_module_version": "1.2.0",
            "grid_template_areas": null,
            "object_position": null,
            "object_fit": null,
            "grid_auto_columns": null,
            "margin": null,
            "display": null,
            "left": null
          }
        },
        "6bab476c50ae44ad87c8cc50191c3d99": {
          "model_module": "@jupyter-widgets/controls",
          "model_name": "HBoxModel",
          "state": {
            "_view_name": "HBoxView",
            "_dom_classes": [],
            "_model_name": "HBoxModel",
            "_view_module": "@jupyter-widgets/controls",
            "_model_module_version": "1.5.0",
            "_view_count": null,
            "_view_module_version": "1.5.0",
            "box_style": "",
            "layout": "IPY_MODEL_0c032fb0a8e44aa181ec757bc9b256ed",
            "_model_module": "@jupyter-widgets/controls",
            "children": [
              "IPY_MODEL_5a49f0c9e3d947169998a0c7835b8eab",
              "IPY_MODEL_7399748811004b158b1c879ea644cae3"
            ]
          }
        },
        "0c032fb0a8e44aa181ec757bc9b256ed": {
          "model_module": "@jupyter-widgets/base",
          "model_name": "LayoutModel",
          "state": {
            "_view_name": "LayoutView",
            "grid_template_rows": null,
            "right": null,
            "justify_content": null,
            "_view_module": "@jupyter-widgets/base",
            "overflow": null,
            "_model_module_version": "1.2.0",
            "_view_count": null,
            "flex_flow": null,
            "width": null,
            "min_width": null,
            "border": null,
            "align_items": null,
            "bottom": null,
            "_model_module": "@jupyter-widgets/base",
            "top": null,
            "grid_column": null,
            "overflow_y": null,
            "overflow_x": null,
            "grid_auto_flow": null,
            "grid_area": null,
            "grid_template_columns": null,
            "flex": null,
            "_model_name": "LayoutModel",
            "justify_items": null,
            "grid_row": null,
            "max_height": null,
            "align_content": null,
            "visibility": null,
            "align_self": null,
            "height": null,
            "min_height": null,
            "padding": null,
            "grid_auto_rows": null,
            "grid_gap": null,
            "max_width": null,
            "order": null,
            "_view_module_version": "1.2.0",
            "grid_template_areas": null,
            "object_position": null,
            "object_fit": null,
            "grid_auto_columns": null,
            "margin": null,
            "display": null,
            "left": null
          }
        },
        "5a49f0c9e3d947169998a0c7835b8eab": {
          "model_module": "@jupyter-widgets/controls",
          "model_name": "FloatProgressModel",
          "state": {
            "_view_name": "ProgressView",
            "style": "IPY_MODEL_6158710ca65044a1bf2fba21ec17ca36",
            "_dom_classes": [],
            "description": "Downloading: 100%",
            "_model_name": "FloatProgressModel",
            "bar_style": "success",
            "max": 443,
            "_view_module": "@jupyter-widgets/controls",
            "_model_module_version": "1.5.0",
            "value": 443,
            "_view_count": null,
            "_view_module_version": "1.5.0",
            "orientation": "horizontal",
            "min": 0,
            "description_tooltip": null,
            "_model_module": "@jupyter-widgets/controls",
            "layout": "IPY_MODEL_5fe767a675864a848350467e5914c7e4"
          }
        },
        "7399748811004b158b1c879ea644cae3": {
          "model_module": "@jupyter-widgets/controls",
          "model_name": "HTMLModel",
          "state": {
            "_view_name": "HTMLView",
            "style": "IPY_MODEL_7719cefd88964311af4d05bd77ef0a8c",
            "_dom_classes": [],
            "description": "",
            "_model_name": "HTMLModel",
            "placeholder": "​",
            "_view_module": "@jupyter-widgets/controls",
            "_model_module_version": "1.5.0",
            "value": " 443/443 [00:00&lt;00:00, 9.14kB/s]",
            "_view_count": null,
            "_view_module_version": "1.5.0",
            "description_tooltip": null,
            "_model_module": "@jupyter-widgets/controls",
            "layout": "IPY_MODEL_8e480ea6cef4456a8e063939dfb8715b"
          }
        },
        "6158710ca65044a1bf2fba21ec17ca36": {
          "model_module": "@jupyter-widgets/controls",
          "model_name": "ProgressStyleModel",
          "state": {
            "_view_name": "StyleView",
            "_model_name": "ProgressStyleModel",
            "description_width": "initial",
            "_view_module": "@jupyter-widgets/base",
            "_model_module_version": "1.5.0",
            "_view_count": null,
            "_view_module_version": "1.2.0",
            "bar_color": null,
            "_model_module": "@jupyter-widgets/controls"
          }
        },
        "5fe767a675864a848350467e5914c7e4": {
          "model_module": "@jupyter-widgets/base",
          "model_name": "LayoutModel",
          "state": {
            "_view_name": "LayoutView",
            "grid_template_rows": null,
            "right": null,
            "justify_content": null,
            "_view_module": "@jupyter-widgets/base",
            "overflow": null,
            "_model_module_version": "1.2.0",
            "_view_count": null,
            "flex_flow": null,
            "width": null,
            "min_width": null,
            "border": null,
            "align_items": null,
            "bottom": null,
            "_model_module": "@jupyter-widgets/base",
            "top": null,
            "grid_column": null,
            "overflow_y": null,
            "overflow_x": null,
            "grid_auto_flow": null,
            "grid_area": null,
            "grid_template_columns": null,
            "flex": null,
            "_model_name": "LayoutModel",
            "justify_items": null,
            "grid_row": null,
            "max_height": null,
            "align_content": null,
            "visibility": null,
            "align_self": null,
            "height": null,
            "min_height": null,
            "padding": null,
            "grid_auto_rows": null,
            "grid_gap": null,
            "max_width": null,
            "order": null,
            "_view_module_version": "1.2.0",
            "grid_template_areas": null,
            "object_position": null,
            "object_fit": null,
            "grid_auto_columns": null,
            "margin": null,
            "display": null,
            "left": null
          }
        },
        "7719cefd88964311af4d05bd77ef0a8c": {
          "model_module": "@jupyter-widgets/controls",
          "model_name": "DescriptionStyleModel",
          "state": {
            "_view_name": "StyleView",
            "_model_name": "DescriptionStyleModel",
            "description_width": "",
            "_view_module": "@jupyter-widgets/base",
            "_model_module_version": "1.5.0",
            "_view_count": null,
            "_view_module_version": "1.2.0",
            "_model_module": "@jupyter-widgets/controls"
          }
        },
        "8e480ea6cef4456a8e063939dfb8715b": {
          "model_module": "@jupyter-widgets/base",
          "model_name": "LayoutModel",
          "state": {
            "_view_name": "LayoutView",
            "grid_template_rows": null,
            "right": null,
            "justify_content": null,
            "_view_module": "@jupyter-widgets/base",
            "overflow": null,
            "_model_module_version": "1.2.0",
            "_view_count": null,
            "flex_flow": null,
            "width": null,
            "min_width": null,
            "border": null,
            "align_items": null,
            "bottom": null,
            "_model_module": "@jupyter-widgets/base",
            "top": null,
            "grid_column": null,
            "overflow_y": null,
            "overflow_x": null,
            "grid_auto_flow": null,
            "grid_area": null,
            "grid_template_columns": null,
            "flex": null,
            "_model_name": "LayoutModel",
            "justify_items": null,
            "grid_row": null,
            "max_height": null,
            "align_content": null,
            "visibility": null,
            "align_self": null,
            "height": null,
            "min_height": null,
            "padding": null,
            "grid_auto_rows": null,
            "grid_gap": null,
            "max_width": null,
            "order": null,
            "_view_module_version": "1.2.0",
            "grid_template_areas": null,
            "object_position": null,
            "object_fit": null,
            "grid_auto_columns": null,
            "margin": null,
            "display": null,
            "left": null
          }
        },
        "2957cb3841f645b18bdf1fde4d5ab6a6": {
          "model_module": "@jupyter-widgets/controls",
          "model_name": "HBoxModel",
          "state": {
            "_view_name": "HBoxView",
            "_dom_classes": [],
            "_model_name": "HBoxModel",
            "_view_module": "@jupyter-widgets/controls",
            "_model_module_version": "1.5.0",
            "_view_count": null,
            "_view_module_version": "1.5.0",
            "box_style": "",
            "layout": "IPY_MODEL_b7a00a96736246bc91e76c5b1be17f65",
            "_model_module": "@jupyter-widgets/controls",
            "children": [
              "IPY_MODEL_8e3d5f0ef84949e499de2f6ca3b82866",
              "IPY_MODEL_602e18e93c91482c963fbc3cbca1f8fa"
            ]
          }
        },
        "b7a00a96736246bc91e76c5b1be17f65": {
          "model_module": "@jupyter-widgets/base",
          "model_name": "LayoutModel",
          "state": {
            "_view_name": "LayoutView",
            "grid_template_rows": null,
            "right": null,
            "justify_content": null,
            "_view_module": "@jupyter-widgets/base",
            "overflow": null,
            "_model_module_version": "1.2.0",
            "_view_count": null,
            "flex_flow": null,
            "width": null,
            "min_width": null,
            "border": null,
            "align_items": null,
            "bottom": null,
            "_model_module": "@jupyter-widgets/base",
            "top": null,
            "grid_column": null,
            "overflow_y": null,
            "overflow_x": null,
            "grid_auto_flow": null,
            "grid_area": null,
            "grid_template_columns": null,
            "flex": null,
            "_model_name": "LayoutModel",
            "justify_items": null,
            "grid_row": null,
            "max_height": null,
            "align_content": null,
            "visibility": null,
            "align_self": null,
            "height": null,
            "min_height": null,
            "padding": null,
            "grid_auto_rows": null,
            "grid_gap": null,
            "max_width": null,
            "order": null,
            "_view_module_version": "1.2.0",
            "grid_template_areas": null,
            "object_position": null,
            "object_fit": null,
            "grid_auto_columns": null,
            "margin": null,
            "display": null,
            "left": null
          }
        },
        "8e3d5f0ef84949e499de2f6ca3b82866": {
          "model_module": "@jupyter-widgets/controls",
          "model_name": "FloatProgressModel",
          "state": {
            "_view_name": "ProgressView",
            "style": "IPY_MODEL_6814879b30054855a4304f5dcec8989a",
            "_dom_classes": [],
            "description": "Downloading: 100%",
            "_model_name": "FloatProgressModel",
            "bar_style": "success",
            "max": 1340675298,
            "_view_module": "@jupyter-widgets/controls",
            "_model_module_version": "1.5.0",
            "value": 1340675298,
            "_view_count": null,
            "_view_module_version": "1.5.0",
            "orientation": "horizontal",
            "min": 0,
            "description_tooltip": null,
            "_model_module": "@jupyter-widgets/controls",
            "layout": "IPY_MODEL_ff75b4aa608e48ffa808ab2adb4c2f8e"
          }
        },
        "602e18e93c91482c963fbc3cbca1f8fa": {
          "model_module": "@jupyter-widgets/controls",
          "model_name": "HTMLModel",
          "state": {
            "_view_name": "HTMLView",
            "style": "IPY_MODEL_3e9e2b3a11a44f0981dc63379d447e6b",
            "_dom_classes": [],
            "description": "",
            "_model_name": "HTMLModel",
            "placeholder": "​",
            "_view_module": "@jupyter-widgets/controls",
            "_model_module_version": "1.5.0",
            "value": " 1.34G/1.34G [00:21&lt;00:00, 61.2MB/s]",
            "_view_count": null,
            "_view_module_version": "1.5.0",
            "description_tooltip": null,
            "_model_module": "@jupyter-widgets/controls",
            "layout": "IPY_MODEL_5e52bdc09281497e8add850fbaee2529"
          }
        },
        "6814879b30054855a4304f5dcec8989a": {
          "model_module": "@jupyter-widgets/controls",
          "model_name": "ProgressStyleModel",
          "state": {
            "_view_name": "StyleView",
            "_model_name": "ProgressStyleModel",
            "description_width": "initial",
            "_view_module": "@jupyter-widgets/base",
            "_model_module_version": "1.5.0",
            "_view_count": null,
            "_view_module_version": "1.2.0",
            "bar_color": null,
            "_model_module": "@jupyter-widgets/controls"
          }
        },
        "ff75b4aa608e48ffa808ab2adb4c2f8e": {
          "model_module": "@jupyter-widgets/base",
          "model_name": "LayoutModel",
          "state": {
            "_view_name": "LayoutView",
            "grid_template_rows": null,
            "right": null,
            "justify_content": null,
            "_view_module": "@jupyter-widgets/base",
            "overflow": null,
            "_model_module_version": "1.2.0",
            "_view_count": null,
            "flex_flow": null,
            "width": null,
            "min_width": null,
            "border": null,
            "align_items": null,
            "bottom": null,
            "_model_module": "@jupyter-widgets/base",
            "top": null,
            "grid_column": null,
            "overflow_y": null,
            "overflow_x": null,
            "grid_auto_flow": null,
            "grid_area": null,
            "grid_template_columns": null,
            "flex": null,
            "_model_name": "LayoutModel",
            "justify_items": null,
            "grid_row": null,
            "max_height": null,
            "align_content": null,
            "visibility": null,
            "align_self": null,
            "height": null,
            "min_height": null,
            "padding": null,
            "grid_auto_rows": null,
            "grid_gap": null,
            "max_width": null,
            "order": null,
            "_view_module_version": "1.2.0",
            "grid_template_areas": null,
            "object_position": null,
            "object_fit": null,
            "grid_auto_columns": null,
            "margin": null,
            "display": null,
            "left": null
          }
        },
        "3e9e2b3a11a44f0981dc63379d447e6b": {
          "model_module": "@jupyter-widgets/controls",
          "model_name": "DescriptionStyleModel",
          "state": {
            "_view_name": "StyleView",
            "_model_name": "DescriptionStyleModel",
            "description_width": "",
            "_view_module": "@jupyter-widgets/base",
            "_model_module_version": "1.5.0",
            "_view_count": null,
            "_view_module_version": "1.2.0",
            "_model_module": "@jupyter-widgets/controls"
          }
        },
        "5e52bdc09281497e8add850fbaee2529": {
          "model_module": "@jupyter-widgets/base",
          "model_name": "LayoutModel",
          "state": {
            "_view_name": "LayoutView",
            "grid_template_rows": null,
            "right": null,
            "justify_content": null,
            "_view_module": "@jupyter-widgets/base",
            "overflow": null,
            "_model_module_version": "1.2.0",
            "_view_count": null,
            "flex_flow": null,
            "width": null,
            "min_width": null,
            "border": null,
            "align_items": null,
            "bottom": null,
            "_model_module": "@jupyter-widgets/base",
            "top": null,
            "grid_column": null,
            "overflow_y": null,
            "overflow_x": null,
            "grid_auto_flow": null,
            "grid_area": null,
            "grid_template_columns": null,
            "flex": null,
            "_model_name": "LayoutModel",
            "justify_items": null,
            "grid_row": null,
            "max_height": null,
            "align_content": null,
            "visibility": null,
            "align_self": null,
            "height": null,
            "min_height": null,
            "padding": null,
            "grid_auto_rows": null,
            "grid_gap": null,
            "max_width": null,
            "order": null,
            "_view_module_version": "1.2.0",
            "grid_template_areas": null,
            "object_position": null,
            "object_fit": null,
            "grid_auto_columns": null,
            "margin": null,
            "display": null,
            "left": null
          }
        },
        "e41d05224bb245fcb3e8867f84ca3b27": {
          "model_module": "@jupyter-widgets/controls",
          "model_name": "HBoxModel",
          "state": {
            "_view_name": "HBoxView",
            "_dom_classes": [],
            "_model_name": "HBoxModel",
            "_view_module": "@jupyter-widgets/controls",
            "_model_module_version": "1.5.0",
            "_view_count": null,
            "_view_module_version": "1.5.0",
            "box_style": "",
            "layout": "IPY_MODEL_736931e60c6147789416c2f05acd8d1f",
            "_model_module": "@jupyter-widgets/controls",
            "children": [
              "IPY_MODEL_e323c6e72ba34c5285a8d963d5ccc96c",
              "IPY_MODEL_f033c44a604443388b6c8e58326667cc"
            ]
          }
        },
        "736931e60c6147789416c2f05acd8d1f": {
          "model_module": "@jupyter-widgets/base",
          "model_name": "LayoutModel",
          "state": {
            "_view_name": "LayoutView",
            "grid_template_rows": null,
            "right": null,
            "justify_content": null,
            "_view_module": "@jupyter-widgets/base",
            "overflow": null,
            "_model_module_version": "1.2.0",
            "_view_count": null,
            "flex_flow": null,
            "width": null,
            "min_width": null,
            "border": null,
            "align_items": null,
            "bottom": null,
            "_model_module": "@jupyter-widgets/base",
            "top": null,
            "grid_column": null,
            "overflow_y": null,
            "overflow_x": null,
            "grid_auto_flow": null,
            "grid_area": null,
            "grid_template_columns": null,
            "flex": null,
            "_model_name": "LayoutModel",
            "justify_items": null,
            "grid_row": null,
            "max_height": null,
            "align_content": null,
            "visibility": null,
            "align_self": null,
            "height": null,
            "min_height": null,
            "padding": null,
            "grid_auto_rows": null,
            "grid_gap": null,
            "max_width": null,
            "order": null,
            "_view_module_version": "1.2.0",
            "grid_template_areas": null,
            "object_position": null,
            "object_fit": null,
            "grid_auto_columns": null,
            "margin": null,
            "display": null,
            "left": null
          }
        },
        "e323c6e72ba34c5285a8d963d5ccc96c": {
          "model_module": "@jupyter-widgets/controls",
          "model_name": "FloatProgressModel",
          "state": {
            "_view_name": "ProgressView",
            "style": "IPY_MODEL_99fbee8a60f1481ab90995c1d258c9ca",
            "_dom_classes": [],
            "description": "Downloading: 100%",
            "_model_name": "FloatProgressModel",
            "bar_style": "success",
            "max": 231508,
            "_view_module": "@jupyter-widgets/controls",
            "_model_module_version": "1.5.0",
            "value": 231508,
            "_view_count": null,
            "_view_module_version": "1.5.0",
            "orientation": "horizontal",
            "min": 0,
            "description_tooltip": null,
            "_model_module": "@jupyter-widgets/controls",
            "layout": "IPY_MODEL_2edbed75c35e4b918c762f37d48599c4"
          }
        },
        "f033c44a604443388b6c8e58326667cc": {
          "model_module": "@jupyter-widgets/controls",
          "model_name": "HTMLModel",
          "state": {
            "_view_name": "HTMLView",
            "style": "IPY_MODEL_f2320f85fdaf4571aa6fe7087ac5b401",
            "_dom_classes": [],
            "description": "",
            "_model_name": "HTMLModel",
            "placeholder": "​",
            "_view_module": "@jupyter-widgets/controls",
            "_model_module_version": "1.5.0",
            "value": " 232k/232k [00:00&lt;00:00, 805kB/s]",
            "_view_count": null,
            "_view_module_version": "1.5.0",
            "description_tooltip": null,
            "_model_module": "@jupyter-widgets/controls",
            "layout": "IPY_MODEL_c9121522463644039bdd90368680f30d"
          }
        },
        "99fbee8a60f1481ab90995c1d258c9ca": {
          "model_module": "@jupyter-widgets/controls",
          "model_name": "ProgressStyleModel",
          "state": {
            "_view_name": "StyleView",
            "_model_name": "ProgressStyleModel",
            "description_width": "initial",
            "_view_module": "@jupyter-widgets/base",
            "_model_module_version": "1.5.0",
            "_view_count": null,
            "_view_module_version": "1.2.0",
            "bar_color": null,
            "_model_module": "@jupyter-widgets/controls"
          }
        },
        "2edbed75c35e4b918c762f37d48599c4": {
          "model_module": "@jupyter-widgets/base",
          "model_name": "LayoutModel",
          "state": {
            "_view_name": "LayoutView",
            "grid_template_rows": null,
            "right": null,
            "justify_content": null,
            "_view_module": "@jupyter-widgets/base",
            "overflow": null,
            "_model_module_version": "1.2.0",
            "_view_count": null,
            "flex_flow": null,
            "width": null,
            "min_width": null,
            "border": null,
            "align_items": null,
            "bottom": null,
            "_model_module": "@jupyter-widgets/base",
            "top": null,
            "grid_column": null,
            "overflow_y": null,
            "overflow_x": null,
            "grid_auto_flow": null,
            "grid_area": null,
            "grid_template_columns": null,
            "flex": null,
            "_model_name": "LayoutModel",
            "justify_items": null,
            "grid_row": null,
            "max_height": null,
            "align_content": null,
            "visibility": null,
            "align_self": null,
            "height": null,
            "min_height": null,
            "padding": null,
            "grid_auto_rows": null,
            "grid_gap": null,
            "max_width": null,
            "order": null,
            "_view_module_version": "1.2.0",
            "grid_template_areas": null,
            "object_position": null,
            "object_fit": null,
            "grid_auto_columns": null,
            "margin": null,
            "display": null,
            "left": null
          }
        },
        "f2320f85fdaf4571aa6fe7087ac5b401": {
          "model_module": "@jupyter-widgets/controls",
          "model_name": "DescriptionStyleModel",
          "state": {
            "_view_name": "StyleView",
            "_model_name": "DescriptionStyleModel",
            "description_width": "",
            "_view_module": "@jupyter-widgets/base",
            "_model_module_version": "1.5.0",
            "_view_count": null,
            "_view_module_version": "1.2.0",
            "_model_module": "@jupyter-widgets/controls"
          }
        },
        "c9121522463644039bdd90368680f30d": {
          "model_module": "@jupyter-widgets/base",
          "model_name": "LayoutModel",
          "state": {
            "_view_name": "LayoutView",
            "grid_template_rows": null,
            "right": null,
            "justify_content": null,
            "_view_module": "@jupyter-widgets/base",
            "overflow": null,
            "_model_module_version": "1.2.0",
            "_view_count": null,
            "flex_flow": null,
            "width": null,
            "min_width": null,
            "border": null,
            "align_items": null,
            "bottom": null,
            "_model_module": "@jupyter-widgets/base",
            "top": null,
            "grid_column": null,
            "overflow_y": null,
            "overflow_x": null,
            "grid_auto_flow": null,
            "grid_area": null,
            "grid_template_columns": null,
            "flex": null,
            "_model_name": "LayoutModel",
            "justify_items": null,
            "grid_row": null,
            "max_height": null,
            "align_content": null,
            "visibility": null,
            "align_self": null,
            "height": null,
            "min_height": null,
            "padding": null,
            "grid_auto_rows": null,
            "grid_gap": null,
            "max_width": null,
            "order": null,
            "_view_module_version": "1.2.0",
            "grid_template_areas": null,
            "object_position": null,
            "object_fit": null,
            "grid_auto_columns": null,
            "margin": null,
            "display": null,
            "left": null
          }
        },
        "c234d95095d24dc098ec549ad1188134": {
          "model_module": "@jupyter-widgets/controls",
          "model_name": "HBoxModel",
          "state": {
            "_view_name": "HBoxView",
            "_dom_classes": [],
            "_model_name": "HBoxModel",
            "_view_module": "@jupyter-widgets/controls",
            "_model_module_version": "1.5.0",
            "_view_count": null,
            "_view_module_version": "1.5.0",
            "box_style": "",
            "layout": "IPY_MODEL_e68c26e3803d4734931a3c8975fa96b2",
            "_model_module": "@jupyter-widgets/controls",
            "children": [
              "IPY_MODEL_f4c60736f5c649ce8bb885a8feac7a5f",
              "IPY_MODEL_2d3aa28d34e54915a5fd5b45ea4aa4fb"
            ]
          }
        },
        "e68c26e3803d4734931a3c8975fa96b2": {
          "model_module": "@jupyter-widgets/base",
          "model_name": "LayoutModel",
          "state": {
            "_view_name": "LayoutView",
            "grid_template_rows": null,
            "right": null,
            "justify_content": null,
            "_view_module": "@jupyter-widgets/base",
            "overflow": null,
            "_model_module_version": "1.2.0",
            "_view_count": null,
            "flex_flow": null,
            "width": null,
            "min_width": null,
            "border": null,
            "align_items": null,
            "bottom": null,
            "_model_module": "@jupyter-widgets/base",
            "top": null,
            "grid_column": null,
            "overflow_y": null,
            "overflow_x": null,
            "grid_auto_flow": null,
            "grid_area": null,
            "grid_template_columns": null,
            "flex": null,
            "_model_name": "LayoutModel",
            "justify_items": null,
            "grid_row": null,
            "max_height": null,
            "align_content": null,
            "visibility": null,
            "align_self": null,
            "height": null,
            "min_height": null,
            "padding": null,
            "grid_auto_rows": null,
            "grid_gap": null,
            "max_width": null,
            "order": null,
            "_view_module_version": "1.2.0",
            "grid_template_areas": null,
            "object_position": null,
            "object_fit": null,
            "grid_auto_columns": null,
            "margin": null,
            "display": null,
            "left": null
          }
        },
        "f4c60736f5c649ce8bb885a8feac7a5f": {
          "model_module": "@jupyter-widgets/controls",
          "model_name": "FloatProgressModel",
          "state": {
            "_view_name": "ProgressView",
            "style": "IPY_MODEL_103aab8015aa41f1aa734156199388d9",
            "_dom_classes": [],
            "description": "",
            "_model_name": "FloatProgressModel",
            "bar_style": "success",
            "max": 1,
            "_view_module": "@jupyter-widgets/controls",
            "_model_module_version": "1.5.0",
            "value": 1,
            "_view_count": null,
            "_view_module_version": "1.5.0",
            "orientation": "horizontal",
            "min": 0,
            "description_tooltip": null,
            "_model_module": "@jupyter-widgets/controls",
            "layout": "IPY_MODEL_3e9c22d0cc7a45a289fad71536ad70fe"
          }
        },
        "2d3aa28d34e54915a5fd5b45ea4aa4fb": {
          "model_module": "@jupyter-widgets/controls",
          "model_name": "HTMLModel",
          "state": {
            "_view_name": "HTMLView",
            "style": "IPY_MODEL_e4e5d25904164fa5baf5cba39455344e",
            "_dom_classes": [],
            "description": "",
            "_model_name": "HTMLModel",
            "placeholder": "​",
            "_view_module": "@jupyter-widgets/controls",
            "_model_module_version": "1.5.0",
            "value": " 100/? [03:36&lt;00:00,  2.17s/it]",
            "_view_count": null,
            "_view_module_version": "1.5.0",
            "description_tooltip": null,
            "_model_module": "@jupyter-widgets/controls",
            "layout": "IPY_MODEL_28b11baad4f1483f8c27e211a6174a77"
          }
        },
        "103aab8015aa41f1aa734156199388d9": {
          "model_module": "@jupyter-widgets/controls",
          "model_name": "ProgressStyleModel",
          "state": {
            "_view_name": "StyleView",
            "_model_name": "ProgressStyleModel",
            "description_width": "initial",
            "_view_module": "@jupyter-widgets/base",
            "_model_module_version": "1.5.0",
            "_view_count": null,
            "_view_module_version": "1.2.0",
            "bar_color": null,
            "_model_module": "@jupyter-widgets/controls"
          }
        },
        "3e9c22d0cc7a45a289fad71536ad70fe": {
          "model_module": "@jupyter-widgets/base",
          "model_name": "LayoutModel",
          "state": {
            "_view_name": "LayoutView",
            "grid_template_rows": null,
            "right": null,
            "justify_content": null,
            "_view_module": "@jupyter-widgets/base",
            "overflow": null,
            "_model_module_version": "1.2.0",
            "_view_count": null,
            "flex_flow": null,
            "width": null,
            "min_width": null,
            "border": null,
            "align_items": null,
            "bottom": null,
            "_model_module": "@jupyter-widgets/base",
            "top": null,
            "grid_column": null,
            "overflow_y": null,
            "overflow_x": null,
            "grid_auto_flow": null,
            "grid_area": null,
            "grid_template_columns": null,
            "flex": null,
            "_model_name": "LayoutModel",
            "justify_items": null,
            "grid_row": null,
            "max_height": null,
            "align_content": null,
            "visibility": null,
            "align_self": null,
            "height": null,
            "min_height": null,
            "padding": null,
            "grid_auto_rows": null,
            "grid_gap": null,
            "max_width": null,
            "order": null,
            "_view_module_version": "1.2.0",
            "grid_template_areas": null,
            "object_position": null,
            "object_fit": null,
            "grid_auto_columns": null,
            "margin": null,
            "display": null,
            "left": null
          }
        },
        "e4e5d25904164fa5baf5cba39455344e": {
          "model_module": "@jupyter-widgets/controls",
          "model_name": "DescriptionStyleModel",
          "state": {
            "_view_name": "StyleView",
            "_model_name": "DescriptionStyleModel",
            "description_width": "",
            "_view_module": "@jupyter-widgets/base",
            "_model_module_version": "1.5.0",
            "_view_count": null,
            "_view_module_version": "1.2.0",
            "_model_module": "@jupyter-widgets/controls"
          }
        },
        "28b11baad4f1483f8c27e211a6174a77": {
          "model_module": "@jupyter-widgets/base",
          "model_name": "LayoutModel",
          "state": {
            "_view_name": "LayoutView",
            "grid_template_rows": null,
            "right": null,
            "justify_content": null,
            "_view_module": "@jupyter-widgets/base",
            "overflow": null,
            "_model_module_version": "1.2.0",
            "_view_count": null,
            "flex_flow": null,
            "width": null,
            "min_width": null,
            "border": null,
            "align_items": null,
            "bottom": null,
            "_model_module": "@jupyter-widgets/base",
            "top": null,
            "grid_column": null,
            "overflow_y": null,
            "overflow_x": null,
            "grid_auto_flow": null,
            "grid_area": null,
            "grid_template_columns": null,
            "flex": null,
            "_model_name": "LayoutModel",
            "justify_items": null,
            "grid_row": null,
            "max_height": null,
            "align_content": null,
            "visibility": null,
            "align_self": null,
            "height": null,
            "min_height": null,
            "padding": null,
            "grid_auto_rows": null,
            "grid_gap": null,
            "max_width": null,
            "order": null,
            "_view_module_version": "1.2.0",
            "grid_template_areas": null,
            "object_position": null,
            "object_fit": null,
            "grid_auto_columns": null,
            "margin": null,
            "display": null,
            "left": null
          }
        },
        "b1462d0523be4c07981e4a6553480215": {
          "model_module": "@jupyter-widgets/controls",
          "model_name": "HBoxModel",
          "state": {
            "_view_name": "HBoxView",
            "_dom_classes": [],
            "_model_name": "HBoxModel",
            "_view_module": "@jupyter-widgets/controls",
            "_model_module_version": "1.5.0",
            "_view_count": null,
            "_view_module_version": "1.5.0",
            "box_style": "",
            "layout": "IPY_MODEL_979f05b8ff754ab1ae3cab199557a4be",
            "_model_module": "@jupyter-widgets/controls",
            "children": [
              "IPY_MODEL_b838638dcd1844cc8c417791926444cd",
              "IPY_MODEL_3ec1ebf9f3884d98956cd745470a0ea5"
            ]
          }
        },
        "979f05b8ff754ab1ae3cab199557a4be": {
          "model_module": "@jupyter-widgets/base",
          "model_name": "LayoutModel",
          "state": {
            "_view_name": "LayoutView",
            "grid_template_rows": null,
            "right": null,
            "justify_content": null,
            "_view_module": "@jupyter-widgets/base",
            "overflow": null,
            "_model_module_version": "1.2.0",
            "_view_count": null,
            "flex_flow": null,
            "width": null,
            "min_width": null,
            "border": null,
            "align_items": null,
            "bottom": null,
            "_model_module": "@jupyter-widgets/base",
            "top": null,
            "grid_column": null,
            "overflow_y": null,
            "overflow_x": null,
            "grid_auto_flow": null,
            "grid_area": null,
            "grid_template_columns": null,
            "flex": null,
            "_model_name": "LayoutModel",
            "justify_items": null,
            "grid_row": null,
            "max_height": null,
            "align_content": null,
            "visibility": null,
            "align_self": null,
            "height": null,
            "min_height": null,
            "padding": null,
            "grid_auto_rows": null,
            "grid_gap": null,
            "max_width": null,
            "order": null,
            "_view_module_version": "1.2.0",
            "grid_template_areas": null,
            "object_position": null,
            "object_fit": null,
            "grid_auto_columns": null,
            "margin": null,
            "display": null,
            "left": null
          }
        },
        "b838638dcd1844cc8c417791926444cd": {
          "model_module": "@jupyter-widgets/controls",
          "model_name": "FloatProgressModel",
          "state": {
            "_view_name": "ProgressView",
            "style": "IPY_MODEL_581a7e98ad584835a9cbca438663546a",
            "_dom_classes": [],
            "description": "",
            "_model_name": "FloatProgressModel",
            "bar_style": "success",
            "max": 1,
            "_view_module": "@jupyter-widgets/controls",
            "_model_module_version": "1.5.0",
            "value": 1,
            "_view_count": null,
            "_view_module_version": "1.5.0",
            "orientation": "horizontal",
            "min": 0,
            "description_tooltip": null,
            "_model_module": "@jupyter-widgets/controls",
            "layout": "IPY_MODEL_10b400788cce4c59a6c1f603db455170"
          }
        },
        "3ec1ebf9f3884d98956cd745470a0ea5": {
          "model_module": "@jupyter-widgets/controls",
          "model_name": "HTMLModel",
          "state": {
            "_view_name": "HTMLView",
            "style": "IPY_MODEL_4ace0dc3831c48d7a7313b0dde74e6b3",
            "_dom_classes": [],
            "description": "",
            "_model_name": "HTMLModel",
            "placeholder": "​",
            "_view_module": "@jupyter-widgets/controls",
            "_model_module_version": "1.5.0",
            "value": " 100/? [00:00&lt;00:00, 967.66it/s]",
            "_view_count": null,
            "_view_module_version": "1.5.0",
            "description_tooltip": null,
            "_model_module": "@jupyter-widgets/controls",
            "layout": "IPY_MODEL_2709fa9ec95044cb87d9bfd9119d6b29"
          }
        },
        "581a7e98ad584835a9cbca438663546a": {
          "model_module": "@jupyter-widgets/controls",
          "model_name": "ProgressStyleModel",
          "state": {
            "_view_name": "StyleView",
            "_model_name": "ProgressStyleModel",
            "description_width": "initial",
            "_view_module": "@jupyter-widgets/base",
            "_model_module_version": "1.5.0",
            "_view_count": null,
            "_view_module_version": "1.2.0",
            "bar_color": null,
            "_model_module": "@jupyter-widgets/controls"
          }
        },
        "10b400788cce4c59a6c1f603db455170": {
          "model_module": "@jupyter-widgets/base",
          "model_name": "LayoutModel",
          "state": {
            "_view_name": "LayoutView",
            "grid_template_rows": null,
            "right": null,
            "justify_content": null,
            "_view_module": "@jupyter-widgets/base",
            "overflow": null,
            "_model_module_version": "1.2.0",
            "_view_count": null,
            "flex_flow": null,
            "width": null,
            "min_width": null,
            "border": null,
            "align_items": null,
            "bottom": null,
            "_model_module": "@jupyter-widgets/base",
            "top": null,
            "grid_column": null,
            "overflow_y": null,
            "overflow_x": null,
            "grid_auto_flow": null,
            "grid_area": null,
            "grid_template_columns": null,
            "flex": null,
            "_model_name": "LayoutModel",
            "justify_items": null,
            "grid_row": null,
            "max_height": null,
            "align_content": null,
            "visibility": null,
            "align_self": null,
            "height": null,
            "min_height": null,
            "padding": null,
            "grid_auto_rows": null,
            "grid_gap": null,
            "max_width": null,
            "order": null,
            "_view_module_version": "1.2.0",
            "grid_template_areas": null,
            "object_position": null,
            "object_fit": null,
            "grid_auto_columns": null,
            "margin": null,
            "display": null,
            "left": null
          }
        },
        "4ace0dc3831c48d7a7313b0dde74e6b3": {
          "model_module": "@jupyter-widgets/controls",
          "model_name": "DescriptionStyleModel",
          "state": {
            "_view_name": "StyleView",
            "_model_name": "DescriptionStyleModel",
            "description_width": "",
            "_view_module": "@jupyter-widgets/base",
            "_model_module_version": "1.5.0",
            "_view_count": null,
            "_view_module_version": "1.2.0",
            "_model_module": "@jupyter-widgets/controls"
          }
        },
        "2709fa9ec95044cb87d9bfd9119d6b29": {
          "model_module": "@jupyter-widgets/base",
          "model_name": "LayoutModel",
          "state": {
            "_view_name": "LayoutView",
            "grid_template_rows": null,
            "right": null,
            "justify_content": null,
            "_view_module": "@jupyter-widgets/base",
            "overflow": null,
            "_model_module_version": "1.2.0",
            "_view_count": null,
            "flex_flow": null,
            "width": null,
            "min_width": null,
            "border": null,
            "align_items": null,
            "bottom": null,
            "_model_module": "@jupyter-widgets/base",
            "top": null,
            "grid_column": null,
            "overflow_y": null,
            "overflow_x": null,
            "grid_auto_flow": null,
            "grid_area": null,
            "grid_template_columns": null,
            "flex": null,
            "_model_name": "LayoutModel",
            "justify_items": null,
            "grid_row": null,
            "max_height": null,
            "align_content": null,
            "visibility": null,
            "align_self": null,
            "height": null,
            "min_height": null,
            "padding": null,
            "grid_auto_rows": null,
            "grid_gap": null,
            "max_width": null,
            "order": null,
            "_view_module_version": "1.2.0",
            "grid_template_areas": null,
            "object_position": null,
            "object_fit": null,
            "grid_auto_columns": null,
            "margin": null,
            "display": null,
            "left": null
          }
        },
        "03edb010ff4b467c8fa85856ec2e0741": {
          "model_module": "@jupyter-widgets/controls",
          "model_name": "HBoxModel",
          "state": {
            "_view_name": "HBoxView",
            "_dom_classes": [],
            "_model_name": "HBoxModel",
            "_view_module": "@jupyter-widgets/controls",
            "_model_module_version": "1.5.0",
            "_view_count": null,
            "_view_module_version": "1.5.0",
            "box_style": "",
            "layout": "IPY_MODEL_8151391e5df84f0b87aba39d5e9e5ad0",
            "_model_module": "@jupyter-widgets/controls",
            "children": [
              "IPY_MODEL_8ebdc8ee2c0c47f1b48f49f65740efaa",
              "IPY_MODEL_409b4d957fa34347970173c07ffff57e"
            ]
          }
        },
        "8151391e5df84f0b87aba39d5e9e5ad0": {
          "model_module": "@jupyter-widgets/base",
          "model_name": "LayoutModel",
          "state": {
            "_view_name": "LayoutView",
            "grid_template_rows": null,
            "right": null,
            "justify_content": null,
            "_view_module": "@jupyter-widgets/base",
            "overflow": null,
            "_model_module_version": "1.2.0",
            "_view_count": null,
            "flex_flow": null,
            "width": null,
            "min_width": null,
            "border": null,
            "align_items": null,
            "bottom": null,
            "_model_module": "@jupyter-widgets/base",
            "top": null,
            "grid_column": null,
            "overflow_y": null,
            "overflow_x": null,
            "grid_auto_flow": null,
            "grid_area": null,
            "grid_template_columns": null,
            "flex": null,
            "_model_name": "LayoutModel",
            "justify_items": null,
            "grid_row": null,
            "max_height": null,
            "align_content": null,
            "visibility": null,
            "align_self": null,
            "height": null,
            "min_height": null,
            "padding": null,
            "grid_auto_rows": null,
            "grid_gap": null,
            "max_width": null,
            "order": null,
            "_view_module_version": "1.2.0",
            "grid_template_areas": null,
            "object_position": null,
            "object_fit": null,
            "grid_auto_columns": null,
            "margin": null,
            "display": null,
            "left": null
          }
        },
        "8ebdc8ee2c0c47f1b48f49f65740efaa": {
          "model_module": "@jupyter-widgets/controls",
          "model_name": "FloatProgressModel",
          "state": {
            "_view_name": "ProgressView",
            "style": "IPY_MODEL_66114310401f4792a50f55bca6609783",
            "_dom_classes": [],
            "description": "",
            "_model_name": "FloatProgressModel",
            "bar_style": "success",
            "max": 1,
            "_view_module": "@jupyter-widgets/controls",
            "_model_module_version": "1.5.0",
            "value": 1,
            "_view_count": null,
            "_view_module_version": "1.5.0",
            "orientation": "horizontal",
            "min": 0,
            "description_tooltip": null,
            "_model_module": "@jupyter-widgets/controls",
            "layout": "IPY_MODEL_e998a613e6504d629beb919579cc409f"
          }
        },
        "409b4d957fa34347970173c07ffff57e": {
          "model_module": "@jupyter-widgets/controls",
          "model_name": "HTMLModel",
          "state": {
            "_view_name": "HTMLView",
            "style": "IPY_MODEL_9988c419dee64cc790f0cc0f11ac79fb",
            "_dom_classes": [],
            "description": "",
            "_model_name": "HTMLModel",
            "placeholder": "​",
            "_view_module": "@jupyter-widgets/controls",
            "_model_module_version": "1.5.0",
            "value": " 100/? [02:53&lt;00:00,  1.73s/it]",
            "_view_count": null,
            "_view_module_version": "1.5.0",
            "description_tooltip": null,
            "_model_module": "@jupyter-widgets/controls",
            "layout": "IPY_MODEL_0af2dfac8276458da50e000033f80100"
          }
        },
        "66114310401f4792a50f55bca6609783": {
          "model_module": "@jupyter-widgets/controls",
          "model_name": "ProgressStyleModel",
          "state": {
            "_view_name": "StyleView",
            "_model_name": "ProgressStyleModel",
            "description_width": "initial",
            "_view_module": "@jupyter-widgets/base",
            "_model_module_version": "1.5.0",
            "_view_count": null,
            "_view_module_version": "1.2.0",
            "bar_color": null,
            "_model_module": "@jupyter-widgets/controls"
          }
        },
        "e998a613e6504d629beb919579cc409f": {
          "model_module": "@jupyter-widgets/base",
          "model_name": "LayoutModel",
          "state": {
            "_view_name": "LayoutView",
            "grid_template_rows": null,
            "right": null,
            "justify_content": null,
            "_view_module": "@jupyter-widgets/base",
            "overflow": null,
            "_model_module_version": "1.2.0",
            "_view_count": null,
            "flex_flow": null,
            "width": null,
            "min_width": null,
            "border": null,
            "align_items": null,
            "bottom": null,
            "_model_module": "@jupyter-widgets/base",
            "top": null,
            "grid_column": null,
            "overflow_y": null,
            "overflow_x": null,
            "grid_auto_flow": null,
            "grid_area": null,
            "grid_template_columns": null,
            "flex": null,
            "_model_name": "LayoutModel",
            "justify_items": null,
            "grid_row": null,
            "max_height": null,
            "align_content": null,
            "visibility": null,
            "align_self": null,
            "height": null,
            "min_height": null,
            "padding": null,
            "grid_auto_rows": null,
            "grid_gap": null,
            "max_width": null,
            "order": null,
            "_view_module_version": "1.2.0",
            "grid_template_areas": null,
            "object_position": null,
            "object_fit": null,
            "grid_auto_columns": null,
            "margin": null,
            "display": null,
            "left": null
          }
        },
        "9988c419dee64cc790f0cc0f11ac79fb": {
          "model_module": "@jupyter-widgets/controls",
          "model_name": "DescriptionStyleModel",
          "state": {
            "_view_name": "StyleView",
            "_model_name": "DescriptionStyleModel",
            "description_width": "",
            "_view_module": "@jupyter-widgets/base",
            "_model_module_version": "1.5.0",
            "_view_count": null,
            "_view_module_version": "1.2.0",
            "_model_module": "@jupyter-widgets/controls"
          }
        },
        "0af2dfac8276458da50e000033f80100": {
          "model_module": "@jupyter-widgets/base",
          "model_name": "LayoutModel",
          "state": {
            "_view_name": "LayoutView",
            "grid_template_rows": null,
            "right": null,
            "justify_content": null,
            "_view_module": "@jupyter-widgets/base",
            "overflow": null,
            "_model_module_version": "1.2.0",
            "_view_count": null,
            "flex_flow": null,
            "width": null,
            "min_width": null,
            "border": null,
            "align_items": null,
            "bottom": null,
            "_model_module": "@jupyter-widgets/base",
            "top": null,
            "grid_column": null,
            "overflow_y": null,
            "overflow_x": null,
            "grid_auto_flow": null,
            "grid_area": null,
            "grid_template_columns": null,
            "flex": null,
            "_model_name": "LayoutModel",
            "justify_items": null,
            "grid_row": null,
            "max_height": null,
            "align_content": null,
            "visibility": null,
            "align_self": null,
            "height": null,
            "min_height": null,
            "padding": null,
            "grid_auto_rows": null,
            "grid_gap": null,
            "max_width": null,
            "order": null,
            "_view_module_version": "1.2.0",
            "grid_template_areas": null,
            "object_position": null,
            "object_fit": null,
            "grid_auto_columns": null,
            "margin": null,
            "display": null,
            "left": null
          }
        },
        "cb57c3fad3814bdfa2f0bd86a746e3f9": {
          "model_module": "@jupyter-widgets/controls",
          "model_name": "HBoxModel",
          "state": {
            "_view_name": "HBoxView",
            "_dom_classes": [],
            "_model_name": "HBoxModel",
            "_view_module": "@jupyter-widgets/controls",
            "_model_module_version": "1.5.0",
            "_view_count": null,
            "_view_module_version": "1.5.0",
            "box_style": "",
            "layout": "IPY_MODEL_6a2f0d4906374d67a0af635e4c1a5d43",
            "_model_module": "@jupyter-widgets/controls",
            "children": [
              "IPY_MODEL_7b775646531f4e76ac8b184148b964b2",
              "IPY_MODEL_3d9083576229474c9690a257b01993f1"
            ]
          }
        },
        "6a2f0d4906374d67a0af635e4c1a5d43": {
          "model_module": "@jupyter-widgets/base",
          "model_name": "LayoutModel",
          "state": {
            "_view_name": "LayoutView",
            "grid_template_rows": null,
            "right": null,
            "justify_content": null,
            "_view_module": "@jupyter-widgets/base",
            "overflow": null,
            "_model_module_version": "1.2.0",
            "_view_count": null,
            "flex_flow": null,
            "width": null,
            "min_width": null,
            "border": null,
            "align_items": null,
            "bottom": null,
            "_model_module": "@jupyter-widgets/base",
            "top": null,
            "grid_column": null,
            "overflow_y": null,
            "overflow_x": null,
            "grid_auto_flow": null,
            "grid_area": null,
            "grid_template_columns": null,
            "flex": null,
            "_model_name": "LayoutModel",
            "justify_items": null,
            "grid_row": null,
            "max_height": null,
            "align_content": null,
            "visibility": null,
            "align_self": null,
            "height": null,
            "min_height": null,
            "padding": null,
            "grid_auto_rows": null,
            "grid_gap": null,
            "max_width": null,
            "order": null,
            "_view_module_version": "1.2.0",
            "grid_template_areas": null,
            "object_position": null,
            "object_fit": null,
            "grid_auto_columns": null,
            "margin": null,
            "display": null,
            "left": null
          }
        },
        "7b775646531f4e76ac8b184148b964b2": {
          "model_module": "@jupyter-widgets/controls",
          "model_name": "FloatProgressModel",
          "state": {
            "_view_name": "ProgressView",
            "style": "IPY_MODEL_585f4276327e414b86b5ebfa6edb80aa",
            "_dom_classes": [],
            "description": "",
            "_model_name": "FloatProgressModel",
            "bar_style": "success",
            "max": 1,
            "_view_module": "@jupyter-widgets/controls",
            "_model_module_version": "1.5.0",
            "value": 1,
            "_view_count": null,
            "_view_module_version": "1.5.0",
            "orientation": "horizontal",
            "min": 0,
            "description_tooltip": null,
            "_model_module": "@jupyter-widgets/controls",
            "layout": "IPY_MODEL_b1f0107c5d434e6faf5bd674867b35d8"
          }
        },
        "3d9083576229474c9690a257b01993f1": {
          "model_module": "@jupyter-widgets/controls",
          "model_name": "HTMLModel",
          "state": {
            "_view_name": "HTMLView",
            "style": "IPY_MODEL_fb4c14f33f804cefaa4b79874451d449",
            "_dom_classes": [],
            "description": "",
            "_model_name": "HTMLModel",
            "placeholder": "​",
            "_view_module": "@jupyter-widgets/controls",
            "_model_module_version": "1.5.0",
            "value": " 100/? [00:00&lt;00:00, 991.41it/s]",
            "_view_count": null,
            "_view_module_version": "1.5.0",
            "description_tooltip": null,
            "_model_module": "@jupyter-widgets/controls",
            "layout": "IPY_MODEL_c648fd5ae2fc41a78f3fcd6e9faeb6bb"
          }
        },
        "585f4276327e414b86b5ebfa6edb80aa": {
          "model_module": "@jupyter-widgets/controls",
          "model_name": "ProgressStyleModel",
          "state": {
            "_view_name": "StyleView",
            "_model_name": "ProgressStyleModel",
            "description_width": "initial",
            "_view_module": "@jupyter-widgets/base",
            "_model_module_version": "1.5.0",
            "_view_count": null,
            "_view_module_version": "1.2.0",
            "bar_color": null,
            "_model_module": "@jupyter-widgets/controls"
          }
        },
        "b1f0107c5d434e6faf5bd674867b35d8": {
          "model_module": "@jupyter-widgets/base",
          "model_name": "LayoutModel",
          "state": {
            "_view_name": "LayoutView",
            "grid_template_rows": null,
            "right": null,
            "justify_content": null,
            "_view_module": "@jupyter-widgets/base",
            "overflow": null,
            "_model_module_version": "1.2.0",
            "_view_count": null,
            "flex_flow": null,
            "width": null,
            "min_width": null,
            "border": null,
            "align_items": null,
            "bottom": null,
            "_model_module": "@jupyter-widgets/base",
            "top": null,
            "grid_column": null,
            "overflow_y": null,
            "overflow_x": null,
            "grid_auto_flow": null,
            "grid_area": null,
            "grid_template_columns": null,
            "flex": null,
            "_model_name": "LayoutModel",
            "justify_items": null,
            "grid_row": null,
            "max_height": null,
            "align_content": null,
            "visibility": null,
            "align_self": null,
            "height": null,
            "min_height": null,
            "padding": null,
            "grid_auto_rows": null,
            "grid_gap": null,
            "max_width": null,
            "order": null,
            "_view_module_version": "1.2.0",
            "grid_template_areas": null,
            "object_position": null,
            "object_fit": null,
            "grid_auto_columns": null,
            "margin": null,
            "display": null,
            "left": null
          }
        },
        "fb4c14f33f804cefaa4b79874451d449": {
          "model_module": "@jupyter-widgets/controls",
          "model_name": "DescriptionStyleModel",
          "state": {
            "_view_name": "StyleView",
            "_model_name": "DescriptionStyleModel",
            "description_width": "",
            "_view_module": "@jupyter-widgets/base",
            "_model_module_version": "1.5.0",
            "_view_count": null,
            "_view_module_version": "1.2.0",
            "_model_module": "@jupyter-widgets/controls"
          }
        },
        "c648fd5ae2fc41a78f3fcd6e9faeb6bb": {
          "model_module": "@jupyter-widgets/base",
          "model_name": "LayoutModel",
          "state": {
            "_view_name": "LayoutView",
            "grid_template_rows": null,
            "right": null,
            "justify_content": null,
            "_view_module": "@jupyter-widgets/base",
            "overflow": null,
            "_model_module_version": "1.2.0",
            "_view_count": null,
            "flex_flow": null,
            "width": null,
            "min_width": null,
            "border": null,
            "align_items": null,
            "bottom": null,
            "_model_module": "@jupyter-widgets/base",
            "top": null,
            "grid_column": null,
            "overflow_y": null,
            "overflow_x": null,
            "grid_auto_flow": null,
            "grid_area": null,
            "grid_template_columns": null,
            "flex": null,
            "_model_name": "LayoutModel",
            "justify_items": null,
            "grid_row": null,
            "max_height": null,
            "align_content": null,
            "visibility": null,
            "align_self": null,
            "height": null,
            "min_height": null,
            "padding": null,
            "grid_auto_rows": null,
            "grid_gap": null,
            "max_width": null,
            "order": null,
            "_view_module_version": "1.2.0",
            "grid_template_areas": null,
            "object_position": null,
            "object_fit": null,
            "grid_auto_columns": null,
            "margin": null,
            "display": null,
            "left": null
          }
        }
      }
    }
  },
  "cells": [
    {
      "cell_type": "code",
      "metadata": {
        "id": "cozQWHK52zcF",
        "colab": {
          "base_uri": "https://localhost:8080/"
        },
        "outputId": "08fdbe41-1134-40f0-f0eb-c96a9022d49b"
      },
      "source": [
        "from sklearn.feature_extraction.text import CountVectorizer, TfidfVectorizer\n",
        "from nltk.tokenize import word_tokenize\n",
        "from gensim import models\n",
        "from tqdm.notebook import tqdm\n",
        "\n",
        "import pandas as pd\n",
        "import numpy as np\n",
        "import csv\n",
        "import nltk\n",
        "import spacy\n",
        "import string\n",
        "import math\n",
        "\n",
        "spacy.prefer_gpu()\n",
        "sp = spacy.load('en')\n",
        "\n",
        "nltk.download('stopwords')\n",
        "nltk.download('wordnet')\n",
        "nltk.download('punkt')\n",
        "\n",
        "!git clone https://github.com/talbio/question-answer-AI"
      ],
      "execution_count": null,
      "outputs": [
        {
          "output_type": "stream",
          "text": [
            "[nltk_data] Downloading package stopwords to /root/nltk_data...\n",
            "[nltk_data]   Unzipping corpora/stopwords.zip.\n",
            "[nltk_data] Downloading package wordnet to /root/nltk_data...\n",
            "[nltk_data]   Unzipping corpora/wordnet.zip.\n",
            "[nltk_data] Downloading package punkt to /root/nltk_data...\n",
            "[nltk_data]   Unzipping tokenizers/punkt.zip.\n",
            "Cloning into 'question-answer-AI'...\n",
            "remote: Enumerating objects: 8, done.\u001b[K\n",
            "remote: Counting objects: 100% (8/8), done.\u001b[K\n",
            "remote: Compressing objects: 100% (7/7), done.\u001b[K\n",
            "remote: Total 8 (delta 0), reused 8 (delta 0), pack-reused 0\u001b[K\n",
            "Unpacking objects: 100% (8/8), done.\n"
          ],
          "name": "stdout"
        }
      ]
    },
    {
      "cell_type": "markdown",
      "metadata": {
        "id": "ourEpmeD2vSu"
      },
      "source": [
        "##**Présentation des données**##"
      ]
    },
    {
      "cell_type": "code",
      "metadata": {
        "colab": {
          "base_uri": "https://localhost:8080/"
        },
        "id": "bv_3vEGc218p",
        "outputId": "014ef6df-87e8-42b8-840c-c22e0ddfbcf0"
      },
      "source": [
        "corpus = pd.read_csv('question-answer-AI/data/corpus.csv')  \n",
        "X_train = pd.read_csv('question-answer-AI/data/train_ids.csv')\n",
        "X_val = pd.read_csv('question-answer-AI/data/val_ids.csv')\n",
        "X_test = pd.read_csv('question-answer-AI/data/test.csv')\n",
        "docs = corpus['paragraph'] \n",
        "\n",
        "print(\"Le corpus est composé de %d textes\" %len(corpus['paragraph']))\n",
        "print(\"Les paires de questions réponses pour l'ensemble d'entrainement contiennent \" + str(X_train.shape[0]) + \" entrées\")\n",
        "print(\"Les paires de questions réponses pour l'ensemble de validation contiennent \" + str(X_val.shape[0]) + \" entrées\")\n",
        "print(\"Les paires de questions pour l'ensemble de test contiennent \" + str(X_test.shape[0]) + \" entrées\")"
      ],
      "execution_count": null,
      "outputs": [
        {
          "output_type": "stream",
          "text": [
            "Le corpus est composé de 83327 textes\n",
            "Les paires de questions réponses pour l'ensemble d'entrainement contiennent 106176 entrées\n",
            "Les paires de questions réponses pour l'ensemble de validation contiennent 10000 entrées\n",
            "Les paires de questions pour l'ensemble de test contiennent 10000 entrées\n"
          ],
          "name": "stdout"
        }
      ]
    },
    {
      "cell_type": "markdown",
      "metadata": {
        "id": "XugKkWDI_sOT"
      },
      "source": [
        "##**Preprocessing**##"
      ]
    },
    {
      "cell_type": "markdown",
      "metadata": {
        "id": "xVnLre6kDcHj"
      },
      "source": [
        "### Tokenisation de phrases: ###"
      ]
    },
    {
      "cell_type": "code",
      "metadata": {
        "colab": {
          "base_uri": "https://localhost:8080/"
        },
        "id": "9OawA_bGfrBH",
        "outputId": "3a6aba85-581e-434c-ad11-810b4109379a"
      },
      "source": [
        "import nltk.data\n",
        "sent_detector = nltk.data.load('tokenizers/punkt/english.pickle')\n",
        "\n",
        "sentence_num = []\n",
        "doc_sentences = []\n",
        "\n",
        "for doc in docs:\n",
        "  doc_sentences.append(sent_detector.tokenize(doc.strip()))\n",
        "  sentence_num.append(len(sent_detector.tokenize(doc.strip())))\n",
        "\n",
        "\n",
        "print(\"Il y a en moyenne \" + str(sum(sentence_num) / len(sentence_num)) + \" phrases par document\")"
      ],
      "execution_count": null,
      "outputs": [
        {
          "output_type": "stream",
          "text": [
            "Il y a en moyenne 5.407250951072282 phrases par document\n"
          ],
          "name": "stdout"
        }
      ]
    },
    {
      "cell_type": "markdown",
      "metadata": {
        "id": "ID5aNXEOFazN"
      },
      "source": [
        "### Pipeline pour tokeniser en mots le corpus, enlever les stopwords, et lemmatizer les tokens ###"
      ]
    },
    {
      "cell_type": "code",
      "metadata": {
        "ExecuteTime": {
          "end_time": "2020-09-24T13:06:54.237924Z",
          "start_time": "2020-09-24T13:06:54.204609Z"
        },
        "hidden": true,
        "id": "VnNtf-OBj7Xn"
      },
      "source": [
        "class Preprocess(object):\n",
        "    def __init__(self, lemmatize=True):\n",
        "        self.stopwords = set(nltk.corpus.stopwords.words(\"english\"))\n",
        "        self.lemmatize = lemmatize\n",
        "        self.lemmatizer = nltk.stem.WordNetLemmatizer()\n",
        "        self.stemmer = nltk.PorterStemmer()\n",
        "\n",
        "    def preprocess_pipeline(self, corpus):\n",
        "        clean_tokenized_corpus = self._clean_docs(corpus)\n",
        "        if self.lemmatize:\n",
        "            clean_tokenized_corpus = self._lemmatize(clean_tokenized_corpus)\n",
        "\n",
        "        return clean_tokenized_corpus\n",
        "\n",
        "    def word_tokenize(self, corpus):\n",
        "        tokenized_docs = []\n",
        "\n",
        "        for doc in corpus:\n",
        "            tokenized_docs.append(word_tokenize(doc.lower()))\n",
        "\n",
        "        return tokenized_docs\n",
        "\n",
        "    def remove_punk_stop_stem(self, data):\n",
        "        tokenized = self.word_tokenize(data)\n",
        "\n",
        "        no_stopwords = [[word for word in row if not word in self.stopwords and not word in string.punctuation] for row in tokenized]\n",
        "        no_stopwords = [[self.stemmer.stem(word) for word in row] for row in no_stopwords]\n",
        "\n",
        "        rejoined = [\" \".join(row) for row in no_stopwords]\n",
        "\n",
        "        return rejoined\n",
        "\n",
        "\n",
        "    def _clean_docs(self, corpus):\n",
        "        tokenizer = nltk.tokenize.RegexpTokenizer(r\"\\w+\")\n",
        "        return [\n",
        "            [\n",
        "                token.lower()\n",
        "                for token in tokenizer.tokenize(doc)\n",
        "                if token.lower() not in self.stopwords\n",
        "                and len(token) > 1\n",
        "                and token.isalpha()\n",
        "                and token != \"br]\"\n",
        "            ]\n",
        "            for doc in corpus\n",
        "        ]\n",
        "\n",
        "    def _lemmatize(self, corpus):\n",
        "        return [[self.lemmatizer.lemmatize(word) for word in doc] for doc in corpus]\n",
        "\n",
        "    def lemmatize_text(self, text):\n",
        "      return (' ').join([self.lemmatizer.lemmatize(word) for word in word_tokenize(text.lower())])\n",
        "\n",
        "    def convert_to_doc(self, tokenized_docs):\n",
        "        docs = []\n",
        "        for tokens in tokenized_docs:\n",
        "            docs.append(\" \".join(tokens))\n",
        "\n",
        "        return docs"
      ],
      "execution_count": null,
      "outputs": []
    },
    {
      "cell_type": "markdown",
      "metadata": {
        "id": "yMIlFffByaOs"
      },
      "source": [
        "Autres méthodes utiles"
      ]
    },
    {
      "cell_type": "code",
      "metadata": {
        "id": "R608EjiCyc9V"
      },
      "source": [
        "from scipy.spatial import distance\r\n",
        "\r\n",
        "\r\n",
        "def cosine(u, v):\r\n",
        "    return np.dot(u, v) / (np.linalg.norm(u) * np.linalg.norm(v))\r\n",
        "\r\n",
        "def dot_product(u, v):\r\n",
        "    return np.dot(u, v)\r\n",
        "\r\n",
        "def euclidean(u, v):\r\n",
        "    return distance.euclidean(u,v)"
      ],
      "execution_count": null,
      "outputs": []
    },
    {
      "cell_type": "code",
      "metadata": {
        "id": "kGq-8LE7yfph"
      },
      "source": [
        "def get_ranking_accuracy(correct_ids, topn_ids, top10_ids):\r\n",
        "    total_topn = 0\r\n",
        "    total_top10 = 0\r\n",
        "    total_lengths = 0\r\n",
        "    total_non_nans = 0\r\n",
        "\r\n",
        "    for correct_id, topn, top10 in zip(correct_ids, topn_ids, top10_ids):\r\n",
        "        if(str(correct_id) == 'nan'):\r\n",
        "            continue\r\n",
        "\r\n",
        "        total_non_nans += 1\r\n",
        "        total_lengths += len(set(topn))\r\n",
        "        if correct_id in topn:\r\n",
        "            total_topn += 1\r\n",
        "        if correct_id in top10:\r\n",
        "            total_top10 += 1\r\n",
        "\r\n",
        "    print('Excluding questions with no answers...')\r\n",
        "    print(f'prediciton is: {total_topn} out of {total_non_nans} predictions have the correct paragraph in their top {total_lengths/total_non_nans} or {total_topn/total_non_nans}')\r\n",
        "    print(f'prediciton is: {total_top10} out of {total_non_nans} predictions have the correct paragraph in their top 10 or {total_top10/total_non_nans}')"
      ],
      "execution_count": null,
      "outputs": []
    },
    {
      "cell_type": "code",
      "metadata": {
        "id": "0Dj4yXOlyitY"
      },
      "source": [
        "def create_passage_submission(ids, topns, top10s):\r\n",
        "    submission_topn = []\r\n",
        "    submission_top10 = []\r\n",
        "\r\n",
        "    for tn, t10 in zip(topns, top10s):\r\n",
        "        tn = [str(x) for x in tn]\r\n",
        "        t10 = [str(x) for x in t10]\r\n",
        "        submission_topn.append(\";\".join(tn))\r\n",
        "        submission_top10.append(\";\".join(t10))\r\n",
        "\r\n",
        "    submission_df = pd.DataFrame(zip(ids, submission_topn, submission_top10), columns=[\"id\", \"top_n\", \"top_10\"])\r\n",
        "    submission_df.to_csv(\"./passage_submission.csv\", encoding='utf-8', index=False)"
      ],
      "execution_count": null,
      "outputs": []
    },
    {
      "cell_type": "markdown",
      "metadata": {
        "id": "A0DspZjR2GS5"
      },
      "source": [
        "#**Représentation de passages et ordonnacement**#"
      ]
    },
    {
      "cell_type": "markdown",
      "metadata": {
        "id": "z3JDLAi12aKH"
      },
      "source": [
        "## TF-IDF des bigrams sur le corpus prétraité avec la classe Preprocess() ##"
      ]
    },
    {
      "cell_type": "code",
      "metadata": {
        "id": "02ebetFhzNon",
        "colab": {
          "base_uri": "https://localhost:8080/"
        },
        "outputId": "480f1842-1f7b-4610-e38a-8f3d150319e0"
      },
      "source": [
        "pre = Preprocess()\n",
        "matrix = pre.preprocess_pipeline(docs)\n",
        "matrix = pre.convert_to_doc(matrix)\n",
        "print('preprocess done')\n",
        "\n",
        "vectorizer = TfidfVectorizer(ngram_range=(2,2), min_df=5, max_df=.5)\n",
        "matrix = vectorizer.fit_transform(matrix)"
      ],
      "execution_count": null,
      "outputs": [
        {
          "output_type": "stream",
          "text": [
            "preprocess done\n"
          ],
          "name": "stdout"
        }
      ]
    },
    {
      "cell_type": "code",
      "metadata": {
        "id": "ZoNC3kWl2qZ3",
        "colab": {
          "base_uri": "https://localhost:8080/"
        },
        "outputId": "4bbe69f5-1eaa-40f1-8b11-807e69c9b684"
      },
      "source": [
        "matrix.shape"
      ],
      "execution_count": null,
      "outputs": [
        {
          "output_type": "execute_result",
          "data": {
            "text/plain": [
              "(83327, 151788)"
            ]
          },
          "metadata": {
            "tags": []
          },
          "execution_count": 9
        }
      ]
    },
    {
      "cell_type": "markdown",
      "metadata": {
        "id": "SqhqPVPkPJyN"
      },
      "source": [
        "### Essayons de répondre à une question ###"
      ]
    },
    {
      "cell_type": "code",
      "metadata": {
        "id": "S44k1RWT7cGP",
        "colab": {
          "base_uri": "https://localhost:8080/"
        },
        "outputId": "21f550a8-c728-4fa5-fb7b-ad12d52d3972"
      },
      "source": [
        "question = X_train.iloc[2, :]['question']\n",
        "paragraph_id = X_train.iloc[2, :]['paragraph_id']\n",
        "answer = X_train.iloc[2, :]['answer']\n",
        "\n",
        "print('Question: ' + str(question))\n",
        "print('ID du document réponse: ' + str(paragraph_id))\n",
        "print('Réponse: ' + str(answer))\n",
        "\n",
        "query = vectorizer.transform([pre.lemmatize_text(question)])\n",
        "(query > 0).sum(), vectorizer.inverse_transform(query)\n",
        "query.shape"
      ],
      "execution_count": null,
      "outputs": [
        {
          "output_type": "stream",
          "text": [
            "Question: How many other cities had populations larger than 40,000 by 1500?\n",
            "ID du document réponse: 11041.0\n",
            "Réponse: Twenty-two\n"
          ],
          "name": "stdout"
        },
        {
          "output_type": "execute_result",
          "data": {
            "text/plain": [
              "(1, 151788)"
            ]
          },
          "metadata": {
            "tags": []
          },
          "execution_count": 10
        }
      ]
    },
    {
      "cell_type": "code",
      "metadata": {
        "id": "Bq5VWF5483cW",
        "colab": {
          "base_uri": "https://localhost:8080/"
        },
        "outputId": "96c95880-997e-4bbe-a053-b4b0fabec5c2"
      },
      "source": [
        "%%time\n",
        "scores = (matrix * query.T).toarray()\n",
        "results = (np.flip(np.argsort(scores, axis=0)))\n",
        "print((paragraph_id in results[:40000, 0]))\n",
        "\n",
        "print( [corpus['paragraph'][i] for i in results[:3, 0]] )"
      ],
      "execution_count": null,
      "outputs": [
        {
          "output_type": "stream",
          "text": [
            "True\n",
            "[\"<P> Jacob Basil Anderson ( born 18 June 1990 ) is an English actor , singer - songwriter , rapper , and record producer . As an actor , he is known for his role as Grey Worm in the television series Game of Thrones , and his recurring appearances in the first seasons of Episodes and Broadchurch . As a musician , he uses the alias Raleigh Ritchie ; his debut album , You 're a Man Now , Boy , was released in 2016 to very positive reviews . </P>\", \"<P> For centuries the Forum was the center of day - to - day life in Rome : the site of triumphal processions and elections ; the venue for public speeches , criminal trials , and gladiatorial matches ; and the nucleus of commercial affairs . Here statues and monuments commemorated the city 's great men . The teeming heart of ancient Rome , it has been called the most celebrated meeting place in the world , and in all history . Located in the small valley between the Palatine and Capitoline Hills , the Forum today is a sprawling ruin of architectural fragments and intermittent archaeological excavations attracting 4.5 million sightseers yearly . </P>\", \"<P> Maggie is an eccentric American girl from Portland who wins a scholarship to the Fashion Academy of Milan , a prestigious fashion school , on her sixteenth birthday . Bianca is the stylish and chic daughter of a powerful Italian fashion mogul . The two girls meet and are thrown together as roommates at the Fashion Academy , but get off to a rocky start as they have very different personalities and conflicting points of view . However , as they clash over time , they come to understand one another . Together with three of their classmates , they form a band called the MoodBoards in order to pursue their musical dreams , while simultaneously continuing their study of fashion at the Academy . At the end of the first season Maggie and Bianca discover that they are half - sisters , with same father but different mothers . In the second season , Maggie 's mother , who is a songwriter , comes to the Academy to teach , while members of the MoodBoards ' rival band , CoolGhost , attend the Academy as new students . </P>\"]\n",
            "CPU times: user 18.5 ms, sys: 973 µs, total: 19.5 ms\n",
            "Wall time: 19.5 ms\n"
          ],
          "name": "stdout"
        }
      ]
    },
    {
      "cell_type": "markdown",
      "metadata": {
        "id": "b28L7OBUQeAw"
      },
      "source": [
        "En conclusion, TD-IDF n'est pas très efficace. Pour une question donnée, il a fallu prendre les 40 000 documents les plus similaires pour contenir dans l'un d'eux le bon id du paragraphe réponse!"
      ]
    },
    {
      "cell_type": "markdown",
      "metadata": {
        "id": "2TRVwJa-AKHQ"
      },
      "source": [
        "Testons notre baseline sur 10000 questions du dataset d'entrainement"
      ]
    },
    {
      "cell_type": "code",
      "metadata": {
        "id": "4Qo1YyGIvTWB"
      },
      "source": [
        "train_questions = X_train[\"question\"].tolist()[:10000]\r\n",
        "train_par_ids = X_train[\"paragraph_id\"].tolist()[:10000]"
      ],
      "execution_count": null,
      "outputs": []
    },
    {
      "cell_type": "code",
      "metadata": {
        "id": "XIDTE8HqvW6x",
        "colab": {
          "base_uri": "https://localhost:8080/",
          "height": 67,
          "referenced_widgets": [
            "39200104b10f4e269da9c49cd88d5047",
            "4c3d9135243a4cd190266a8b147cd6ee",
            "eb0ff657807b4088bcdafd74ac152455",
            "cbb70e4c84d740409918a70329e4dab3",
            "60bc3577f5ea41168bbf87e24565cc2e",
            "05670e773cb74f25b1fa98cee4ef17d9",
            "fafed56d2fde4635b731e58d55af2c34",
            "65d417040c114b6e9cbe330ac197c364"
          ]
        },
        "outputId": "e00362b5-a490-461d-d9ce-0dd69279aa43"
      },
      "source": [
        "topn = []\r\n",
        "top10 = []\r\n",
        "n = 5\r\n",
        "\r\n",
        "for test_question in tqdm(train_questions):\r\n",
        "    query = vectorizer.transform([pre.lemmatize_text(test_question)])\r\n",
        "\r\n",
        "    scores = (matrix * query.T).toarray()\r\n",
        "    results = (np.flip(np.argsort(scores, axis=0)))\r\n",
        "\r\n",
        "    top = [x[0] for x in results]\r\n",
        "\r\n",
        "    topn.append(top[:n])\r\n",
        "    top10.append(top[:10])"
      ],
      "execution_count": null,
      "outputs": [
        {
          "output_type": "display_data",
          "data": {
            "application/vnd.jupyter.widget-view+json": {
              "model_id": "39200104b10f4e269da9c49cd88d5047",
              "version_minor": 0,
              "version_major": 2
            },
            "text/plain": [
              "HBox(children=(FloatProgress(value=0.0, max=10000.0), HTML(value='')))"
            ]
          },
          "metadata": {
            "tags": []
          }
        },
        {
          "output_type": "stream",
          "text": [
            "\n"
          ],
          "name": "stdout"
        }
      ]
    },
    {
      "cell_type": "code",
      "metadata": {
        "id": "HYA-g17JvZWF",
        "colab": {
          "base_uri": "https://localhost:8080/"
        },
        "outputId": "3b202a3f-9a77-4d1a-9aba-4581785a22d7"
      },
      "source": [
        "get_ranking_accuracy(train_par_ids, topn, top10)"
      ],
      "execution_count": null,
      "outputs": [
        {
          "output_type": "stream",
          "text": [
            "Excluding questions with no answers...\n",
            "prediciton is: 1141 out of 6489 predictions have the correct paragraph in their top 5.0 or 0.17583603020496225%\n",
            "prediciton is: 1492 out of 6489 predictions have the correct paragraph in their top 10 or 0.22992756973339498\n"
          ],
          "name": "stdout"
        }
      ]
    },
    {
      "cell_type": "markdown",
      "metadata": {
        "id": "-KMA2DvX8lzh"
      },
      "source": [
        "##**Vers des représentations plus sophistiquées!**##"
      ]
    },
    {
      "cell_type": "markdown",
      "metadata": {
        "id": "MOHEfOkt8uSL"
      },
      "source": [
        "Code inspired from https://www.analyticsvidhya.com/blog/2020/08/top-4-sentence-embedding-techniques-using-python/\n"
      ]
    },
    {
      "cell_type": "markdown",
      "metadata": {
        "id": "6jdeQoQYEzpD"
      },
      "source": [
        "En raison de contrainte de temps nous allons éxécuter le reste des méthodes sur un petit subset du training dataset pour montrer que l'exécution se fait sans erreur"
      ]
    },
    {
      "cell_type": "markdown",
      "metadata": {
        "id": "XL3B2VZJ8ypv"
      },
      "source": [
        "##Modèles pré-entrainés##"
      ]
    },
    {
      "cell_type": "markdown",
      "metadata": {
        "id": "SL4Uh0RPRn7M"
      },
      "source": [
        "### GloVe ###\n",
        "\n",
        "\n"
      ]
    },
    {
      "cell_type": "markdown",
      "metadata": {
        "id": "o4fvWjpWAlWq"
      },
      "source": [
        "Nous utilisons les plongements pré-entraînes sur Wikipedia 2014 et Gigaword 5. Nous utilisons aussi les plongements de dimension 300"
      ]
    },
    {
      "cell_type": "code",
      "metadata": {
        "colab": {
          "base_uri": "https://localhost:8080/"
        },
        "id": "w4OEQKC0dU-m",
        "outputId": "8f089df7-a998-4891-b1a4-b4889ce967f7"
      },
      "source": [
        "!mkdir GloVe\n",
        "! curl -Lo GloVe/glove.6B.zip http://nlp.stanford.edu/data/glove.6B.zip\n",
        "! unzip GloVe/glove.6B.zip -d GloVe/"
      ],
      "execution_count": null,
      "outputs": [
        {
          "output_type": "stream",
          "text": [
            "  % Total    % Received % Xferd  Average Speed   Time    Time     Time  Current\n",
            "                                 Dload  Upload   Total   Spent    Left  Speed\n",
            "  0   308    0     0    0     0      0      0 --:--:-- --:--:-- --:--:--     0\n",
            "  0   345    0     0    0     0      0      0 --:--:-- --:--:-- --:--:--     0\n",
            "100  822M  100  822M    0     0  2155k      0  0:06:30  0:06:30 --:--:-- 2479k\n",
            "Archive:  GloVe/glove.6B.zip\n",
            "  inflating: GloVe/glove.6B.50d.txt  \n",
            "  inflating: GloVe/glove.6B.100d.txt  \n",
            "  inflating: GloVe/glove.6B.200d.txt  \n",
            "  inflating: GloVe/glove.6B.300d.txt  \n"
          ],
          "name": "stdout"
        }
      ]
    },
    {
      "cell_type": "markdown",
      "metadata": {
        "id": "LSVYTJgxtx-g"
      },
      "source": [
        "Il faut lire tous les words embeddings dans un dictionnaire"
      ]
    },
    {
      "cell_type": "code",
      "metadata": {
        "id": "abgxHZu8djjX"
      },
      "source": [
        "embeddings_dict = {}\n",
        "with open(\"GloVe/glove.6B.300d.txt\", 'r') as f:\n",
        "    for line in f:\n",
        "        values = line.split()\n",
        "        word = values[0]\n",
        "        vector = np.asarray(values[1:], \"float32\")\n",
        "        embeddings_dict[word] = vector"
      ],
      "execution_count": null,
      "outputs": []
    },
    {
      "cell_type": "code",
      "metadata": {
        "id": "scI0wtN6dnO8"
      },
      "source": [
        "def generate_document_embedding(par):\n",
        "    par_embedding = np.zeros(np.shape(shape))\n",
        "\n",
        "    for token in par:\n",
        "        try:\n",
        "            par_embedding = np.add(par_embedding, embeddings_dict[token])\n",
        "        except KeyError:\n",
        "            par_embedding = par_embedding\n",
        "    \n",
        "    return par_embedding/len(par)"
      ],
      "execution_count": null,
      "outputs": []
    },
    {
      "cell_type": "code",
      "metadata": {
        "id": "-TR_ow1q1MOQ"
      },
      "source": [
        "first_key = list(embeddings_dict.keys())[0]\n",
        "shape = np.shape(embeddings_dict[first_key])"
      ],
      "execution_count": null,
      "outputs": []
    },
    {
      "cell_type": "markdown",
      "metadata": {
        "id": "0rU18wvCt43o"
      },
      "source": [
        "Ici, nous créons nos doc embeddings à partir des word embeddings"
      ]
    },
    {
      "cell_type": "code",
      "metadata": {
        "id": "TKawyCgc1Pwb"
      },
      "source": [
        "preprocess = Preprocess()\n",
        "tokenized_pars = preprocess.word_tokenize(docs)\n",
        "par_embeddings = []\n",
        "\n",
        "print('finished tokenizing')\n",
        "\n",
        "for par in tqdm(tokenized_pars):\n",
        "    par_embeddings.append(generate_document_embedding(par))\n",
        "\n"
      ],
      "execution_count": null,
      "outputs": []
    },
    {
      "cell_type": "code",
      "metadata": {
        "id": "zrHPzN-F1WbN"
      },
      "source": [
        "train_questions = X_train[\"question\"].tolist()[:100]\n",
        "train_par_ids = X_train[\"paragraph_id\"].tolist()[:100]\n",
        "\n",
        "train_questions = preprocess.word_tokenize(train_questions)"
      ],
      "execution_count": null,
      "outputs": []
    },
    {
      "cell_type": "markdown",
      "metadata": {
        "id": "6W-byVQVuEpY"
      },
      "source": [
        "Finalement, on génère notre topn et top10"
      ]
    },
    {
      "cell_type": "code",
      "metadata": {
        "colab": {
          "base_uri": "https://localhost:8080/",
          "height": 104,
          "referenced_widgets": [
            "cfc6693759374102a63bc6835d2e94c7",
            "dee3b8f60b1f4a269893b3ddbb643b14",
            "7f3a4c7e58ba4a1f894713949ae0cad9",
            "cbf1bd1cd7c54aa1aef04e5e248c4ce4",
            "bdded9a4901b43b79e44541ab4da11ca",
            "d4b0601539f64eb8b4b07ce62cc6fdf0",
            "ef82601235d34a16a434467c6ed797fb",
            "adfd723887ed464493e12a419aace7c6"
          ]
        },
        "id": "uUiLd1Os1ioC",
        "outputId": "4be931b4-cb3d-4969-8355-6491046fcc64"
      },
      "source": [
        "%%time\n",
        "topn = []\n",
        "top10 = []\n",
        "n = 5\n",
        "\n",
        "for test_question in tqdm(train_questions):\n",
        "    try:\n",
        "        question_embedding = generate_document_embedding(test_question)\n",
        "        doc_scores = np.array([cosine(question_embedding, x) for x in par_embeddings])\n",
        "\n",
        "        topn.append(np.argsort(-1*doc_scores)[:n])\n",
        "        top10.append(np.argsort(-1*doc_scores)[:10])\n",
        "        \n",
        "    except ValueError:\n",
        "        topn.append([-1])\n",
        "        top10.append([-1])"
      ],
      "execution_count": null,
      "outputs": [
        {
          "output_type": "display_data",
          "data": {
            "application/vnd.jupyter.widget-view+json": {
              "model_id": "cfc6693759374102a63bc6835d2e94c7",
              "version_minor": 0,
              "version_major": 2
            },
            "text/plain": [
              "HBox(children=(FloatProgress(value=0.0), HTML(value='')))"
            ]
          },
          "metadata": {
            "tags": []
          }
        },
        {
          "output_type": "stream",
          "text": [
            "\n",
            "CPU times: user 1min 49s, sys: 824 ms, total: 1min 50s\n",
            "Wall time: 1min 50s\n"
          ],
          "name": "stdout"
        }
      ]
    },
    {
      "cell_type": "code",
      "metadata": {
        "colab": {
          "base_uri": "https://localhost:8080/"
        },
        "id": "-wvTNjJm2Ay3",
        "outputId": "521c0e5e-c74e-4c6b-a434-592d2dbbc73d"
      },
      "source": [
        "get_ranking_accuracy(train_par_ids, topn, top10)"
      ],
      "execution_count": null,
      "outputs": [
        {
          "output_type": "stream",
          "text": [
            "Excluding questions with no answers...\n",
            "prediciton is: 20 out of 63 predictions have the correct paragraph in their top 5.0 or 0.31746031746031744%\n",
            "prediciton is: 22 out of 63 predictions have the correct paragraph in their top 10 or 0.3492063492063492\n"
          ],
          "name": "stdout"
        }
      ]
    },
    {
      "cell_type": "markdown",
      "metadata": {
        "id": "iClpknk_bBOp"
      },
      "source": [
        "###Doc2Vec###"
      ]
    },
    {
      "cell_type": "code",
      "metadata": {
        "id": "_ovfpVQX90D1",
        "colab": {
          "base_uri": "https://localhost:8080/"
        },
        "outputId": "4941237c-a869-42f8-8bdb-76939d8ff913"
      },
      "source": [
        "%%time\n",
        "\n",
        "from gensim.models.doc2vec import Doc2Vec, TaggedDocument\n",
        "\n",
        "#preprocess = Preprocess()\n",
        "#tokenized_pars = preprocess.word_tokenize(train_ids_sample[\"paragraph\"])\n",
        "#print(tokenized_pars[0])\n",
        "#tokenized_pars = preprocess.word_tokenize(doc_sentences[:1000])\n",
        "\n",
        "tagged_data = [TaggedDocument(doc, [idx]) for idx, doc in enumerate(tokenized_docs)]\n",
        "model = Doc2Vec(tagged_data, vector_size = 200, window = 4, min_count = 10, epochs = 100)"
      ],
      "execution_count": null,
      "outputs": [
        {
          "output_type": "stream",
          "text": [
            "CPU times: user 1h 20min 36s, sys: 6min 4s, total: 1h 26min 41s\n",
            "Wall time: 49min 19s\n"
          ],
          "name": "stdout"
        }
      ]
    },
    {
      "cell_type": "code",
      "metadata": {
        "colab": {
          "base_uri": "https://localhost:8080/"
        },
        "id": "MZjnzskQMZud",
        "outputId": "8887ab9a-baad-4840-d786-855e4f128b57"
      },
      "source": [
        "from google.colab import drive\n",
        "drive.mount('/content/gdrive')"
      ],
      "execution_count": null,
      "outputs": [
        {
          "output_type": "stream",
          "text": [
            "Drive already mounted at /content/gdrive; to attempt to forcibly remount, call drive.mount(\"/content/gdrive\", force_remount=True).\n"
          ],
          "name": "stdout"
        }
      ]
    },
    {
      "cell_type": "code",
      "metadata": {
        "id": "I9ZyK5UJapSy"
      },
      "source": [
        "model.save(\"/word2vec.model\")"
      ],
      "execution_count": null,
      "outputs": []
    },
    {
      "cell_type": "code",
      "metadata": {
        "id": "eepubUf0L-cQ"
      },
      "source": [
        "from gensim.models import Word2Vec, KeyedVectors\n",
        "from gensim.test.utils import datapath \n",
        "model = KeyedVectors.load_word2vec_format(datapath(\"/content/gdrive/MyDrive/w2vec.bin\"), binary=True)"
      ],
      "execution_count": null,
      "outputs": []
    },
    {
      "cell_type": "code",
      "metadata": {
        "id": "ZyLMgohVAMEl"
      },
      "source": [
        "test_questions = train_ids_sample[\"question\"].tolist()\n",
        "test_par_ids = train_ids_sample[\"paragraph_id\"].tolist()\n",
        "test_answers = train_ids_sample[\"answer\"].tolist()"
      ],
      "execution_count": null,
      "outputs": []
    },
    {
      "cell_type": "code",
      "metadata": {
        "id": "fG1Pf0-wXzRq",
        "colab": {
          "base_uri": "https://localhost:8080/"
        },
        "outputId": "8366e82f-2bb9-402d-8111-8519c055be05"
      },
      "source": [
        "%%time\n",
        "\n",
        "result_par_ids = []\n",
        "\n",
        "for test_question in test_questions:\n",
        "    test_doc = word_tokenize(test_question.lower())\n",
        "    test_doc_vector = model.infer_vector(test_doc)\n",
        "\n",
        "    result = model.docvecs.most_similar(positive = [test_doc_vector])\n",
        "    # get top 5\n",
        "    result = result[:5]\n",
        "    result = [x[0] for x in result]\n",
        "    result_par_ids.append(result)"
      ],
      "execution_count": null,
      "outputs": [
        {
          "output_type": "stream",
          "text": [
            "/usr/local/lib/python3.6/dist-packages/gensim/matutils.py:737: FutureWarning: Conversion of the second argument of issubdtype from `int` to `np.signedinteger` is deprecated. In future, it will be treated as `np.int64 == np.dtype(int).type`.\n",
            "  if np.issubdtype(vec.dtype, np.int):\n"
          ],
          "name": "stderr"
        },
        {
          "output_type": "stream",
          "text": [
            "CPU times: user 22 s, sys: 8.76 s, total: 30.7 s\n",
            "Wall time: 15.8 s\n"
          ],
          "name": "stdout"
        }
      ]
    },
    {
      "cell_type": "code",
      "metadata": {
        "id": "WDTv2O09X5C4",
        "colab": {
          "base_uri": "https://localhost:8080/"
        },
        "outputId": "a1d433d6-7614-4521-b88a-2060dea9e875"
      },
      "source": [
        "total = 0\n",
        "\n",
        "for test_par_id, result_par_id in zip(test_par_ids, result_par_ids):\n",
        "    if test_par_id in result_par_id:\n",
        "        total += 1\n",
        "\n",
        "print(f'prediciton is: {total} out of {len(test_par_ids)} predictions have the correct paragraph in their top 5')"
      ],
      "execution_count": null,
      "outputs": [
        {
          "output_type": "stream",
          "text": [
            "prediciton is: 161 out of 873 predictions have the correct paragraph in their top 5\n"
          ],
          "name": "stdout"
        }
      ]
    },
    {
      "cell_type": "markdown",
      "metadata": {
        "id": "IztieNUWbKH6"
      },
      "source": [
        "##BM25##"
      ]
    },
    {
      "cell_type": "markdown",
      "metadata": {
        "id": "r0VreUl50Jx8"
      },
      "source": [
        "Le code pour la fonction de score BM25 a été tiré du repo Github https://github.com/dorianbrown/rank_bm25"
      ]
    },
    {
      "cell_type": "code",
      "metadata": {
        "id": "uhgERoUueOgJ"
      },
      "source": [
        "class BM25:\n",
        "    def __init__(self, corpus):\n",
        "        self.k1 = 1.5\n",
        "        self.b = 0.75\n",
        "        self.epsilon = 0.25\n",
        "        self.corpus_size = len(corpus)\n",
        "        self.avgdl = 0\n",
        "        self.doc_freqs = []\n",
        "        self.idf = {}\n",
        "        self.doc_len = []\n",
        "\n",
        "        nd = self._initialize(corpus)\n",
        "        self._calc_idf(nd)\n",
        "\n",
        "    def _initialize(self, corpus):\n",
        "        nd = {} \n",
        "        num_doc = 0\n",
        "        for document in corpus:\n",
        "            self.doc_len.append(len(document))\n",
        "            num_doc += len(document)\n",
        "\n",
        "            frequencies = {}\n",
        "            for word in document:\n",
        "                if word not in frequencies:\n",
        "                    frequencies[word] = 0\n",
        "                frequencies[word] += 1\n",
        "            self.doc_freqs.append(frequencies)\n",
        "\n",
        "            for word, freq in frequencies.items():\n",
        "                try:\n",
        "                    nd[word]+=1\n",
        "                except KeyError:\n",
        "                    nd[word] = 1\n",
        "\n",
        "        self.avgdl = num_doc / self.corpus_size\n",
        "        return nd\n",
        "\n",
        "    def _calc_idf(self, nd):\n",
        "        idf_sum = 0\n",
        "\n",
        "        negative_idfs = []\n",
        "        for word, freq in nd.items():\n",
        "            idf = math.log(self.corpus_size) - math.log(freq)\n",
        "            self.idf[word] = idf\n",
        "            idf_sum += idf\n",
        "            if idf < 0:\n",
        "                negative_idfs.append(word)\n",
        "        self.average_idf = idf_sum / len(self.idf)\n",
        "\n",
        "        eps = self.epsilon * self.average_idf\n",
        "        for word in negative_idfs:\n",
        "            self.idf[word] = eps\n",
        "\n",
        "    def get_scores(self, query):\n",
        "        score = np.zeros(self.corpus_size)\n",
        "        doc_len = np.array(self.doc_len)\n",
        "        for q in query:\n",
        "            q_freq = np.array([(doc.get(q) or 0) for doc in self.doc_freqs])\n",
        "            score += (self.idf.get(q) or 0) * (q_freq * (self.k1 + 1) /\n",
        "                                               (q_freq + self.k1 * (1 - self.b + self.b * doc_len / self.avgdl)))\n",
        "        return score"
      ],
      "execution_count": null,
      "outputs": []
    },
    {
      "cell_type": "code",
      "metadata": {
        "colab": {
          "base_uri": "https://localhost:8080/"
        },
        "id": "fhrFnMM9eQd0",
        "outputId": "8e9379e0-9de7-42ce-8fc6-7bf15ef1b4d1"
      },
      "source": [
        "%%time\n",
        "\n",
        "preprocess = Preprocess()\n",
        "cleaned_pars = preprocess.remove_punk_stop_stem(docs)\n",
        "tokenized_paragraphs = preprocess.word_tokenize(cleaned_pars)\n",
        "\n",
        "bm25 = BM25(tokenized_paragraphs)"
      ],
      "execution_count": null,
      "outputs": [
        {
          "output_type": "stream",
          "text": [
            "CPU times: user 3min 36s, sys: 1.46 s, total: 3min 37s\n",
            "Wall time: 3min 38s\n"
          ],
          "name": "stdout"
        }
      ]
    },
    {
      "cell_type": "code",
      "metadata": {
        "id": "M7mXgJ5lghq0"
      },
      "source": [
        "train_questions = X_train[\"question\"].tolist()[:100]\n",
        "train_par_ids = X_train[\"paragraph_id\"].tolist()[:100]\n",
        "\n",
        "train_questions = preprocess.remove_punk_stop_stem(train_questions)"
      ],
      "execution_count": null,
      "outputs": []
    },
    {
      "cell_type": "markdown",
      "metadata": {
        "id": "pB6cG7dGuIXH"
      },
      "source": [
        "On génère notre topn et top10"
      ]
    },
    {
      "cell_type": "code",
      "metadata": {
        "colab": {
          "base_uri": "https://localhost:8080/",
          "height": 67,
          "referenced_widgets": [
            "7a12e1ada20647d5b99921d7ae2f0781",
            "4664d75301454308a5bf45ee1999e31e",
            "d301c64670f045569fb8b80f92ae8885",
            "3987ca0286ac4006b9af73646da9ae9c",
            "ebfd2e15600d4480b8bc7284ecdd10bc",
            "f1844d216aa148d4a2a24158eb76d905",
            "87889d840baf476599317031a27234f9",
            "b9c93670a4e04b029bbd6dab867a3c10"
          ]
        },
        "id": "dhQUuF6RhP11",
        "outputId": "19c762a2-082f-4779-eb8c-8735ffd3e557"
      },
      "source": [
        "top10 = []\n",
        "topn = []\n",
        "n = 3\n",
        "\n",
        "for train_question, id in tqdm(train_questions):\n",
        "    test_doc = word_tokenize(train_question)\n",
        "    doc_scores = bm25.get_scores(test_doc)\n",
        "\n",
        "    topn.append(np.argsort(-1*doc_scores)[:n])\n",
        "    top10.append(np.argsort(-1*doc_scores)[:10])\n"
      ],
      "execution_count": null,
      "outputs": [
        {
          "output_type": "display_data",
          "data": {
            "application/vnd.jupyter.widget-view+json": {
              "model_id": "7a12e1ada20647d5b99921d7ae2f0781",
              "version_minor": 0,
              "version_major": 2
            },
            "text/plain": [
              "HBox(children=(FloatProgress(value=1.0, bar_style='info', max=1.0), HTML(value='')))"
            ]
          },
          "metadata": {
            "tags": []
          }
        },
        {
          "output_type": "stream",
          "text": [
            "\n"
          ],
          "name": "stdout"
        }
      ]
    },
    {
      "cell_type": "code",
      "metadata": {
        "colab": {
          "base_uri": "https://localhost:8080/"
        },
        "id": "m0EawKxLjMcd",
        "outputId": "46569640-0e47-4066-e4bf-24358c881c52"
      },
      "source": [
        "get_ranking_accuracy(train_par_ids, topn, top10)"
      ],
      "execution_count": null,
      "outputs": [
        {
          "output_type": "stream",
          "text": [
            "Excluding questions with no answers...\n",
            "prediciton is: 50 out of 63 predictions have the correct paragraph in their top 3.0 or 0.7936507936507936%\n",
            "prediciton is: 59 out of 63 predictions have the correct paragraph in their top 10 or 0.9365079365079365\n"
          ],
          "name": "stdout"
        }
      ]
    },
    {
      "cell_type": "markdown",
      "metadata": {
        "id": "w3Q6oLUsFVHF"
      },
      "source": [
        "Voici la section pour générer le fichier passage_submission.csv"
      ]
    },
    {
      "cell_type": "code",
      "metadata": {
        "id": "1SI92OsqCRC3"
      },
      "source": [
        "test_questions = X_test[\"question\"].tolist()\r\n",
        "test_ids = X_test[\"id\"].tolist()\r\n",
        "\r\n",
        "test_questions = preprocess.remove_punk_stop_stem(test_questions)\r\n"
      ],
      "execution_count": null,
      "outputs": []
    },
    {
      "cell_type": "code",
      "metadata": {
        "id": "pZDYaGBfGJb0"
      },
      "source": [
        "top10 = []\r\n",
        "topn = []\r\n",
        "n = 2\r\n",
        "\r\n",
        "for test_question in tqdm(test_questions):\r\n",
        "    test_doc = word_tokenize(test_question)\r\n",
        "    doc_scores = bm25.get_scores(test_doc)\r\n",
        "\r\n",
        "    topn.append(np.argsort(-1*doc_scores)[:n])\r\n",
        "    top10.append(np.argsort(-1*doc_scores)[:10])"
      ],
      "execution_count": null,
      "outputs": []
    },
    {
      "cell_type": "code",
      "metadata": {
        "id": "232y3W30GNCR"
      },
      "source": [
        "create_passage_submission(test_ids, topn, top10)"
      ],
      "execution_count": null,
      "outputs": []
    },
    {
      "cell_type": "markdown",
      "metadata": {
        "id": "BVID620vXj3r"
      },
      "source": [
        "#**Extraction de réponse**#"
      ]
    },
    {
      "cell_type": "markdown",
      "metadata": {
        "id": "zvn7GnWYXqS8"
      },
      "source": [
        "Code taken from https://colab.research.google.com/drive/1uSlWtJdZmLrI3FCNIlUHFxwAJiSu2J0-"
      ]
    },
    {
      "cell_type": "code",
      "metadata": {
        "id": "5BZ-RqzaXkmt"
      },
      "source": [
        "%%capture\n",
        "\n",
        "!pip install transformers"
      ],
      "execution_count": null,
      "outputs": []
    },
    {
      "cell_type": "code",
      "metadata": {
        "id": "r89vIN4zXmzR",
        "colab": {
          "base_uri": "https://localhost:8080/",
          "height": 164,
          "referenced_widgets": [
            "6bab476c50ae44ad87c8cc50191c3d99",
            "0c032fb0a8e44aa181ec757bc9b256ed",
            "5a49f0c9e3d947169998a0c7835b8eab",
            "7399748811004b158b1c879ea644cae3",
            "6158710ca65044a1bf2fba21ec17ca36",
            "5fe767a675864a848350467e5914c7e4",
            "7719cefd88964311af4d05bd77ef0a8c",
            "8e480ea6cef4456a8e063939dfb8715b",
            "2957cb3841f645b18bdf1fde4d5ab6a6",
            "b7a00a96736246bc91e76c5b1be17f65",
            "8e3d5f0ef84949e499de2f6ca3b82866",
            "602e18e93c91482c963fbc3cbca1f8fa",
            "6814879b30054855a4304f5dcec8989a",
            "ff75b4aa608e48ffa808ab2adb4c2f8e",
            "3e9e2b3a11a44f0981dc63379d447e6b",
            "5e52bdc09281497e8add850fbaee2529",
            "e41d05224bb245fcb3e8867f84ca3b27",
            "736931e60c6147789416c2f05acd8d1f",
            "e323c6e72ba34c5285a8d963d5ccc96c",
            "f033c44a604443388b6c8e58326667cc",
            "99fbee8a60f1481ab90995c1d258c9ca",
            "2edbed75c35e4b918c762f37d48599c4",
            "f2320f85fdaf4571aa6fe7087ac5b401",
            "c9121522463644039bdd90368680f30d"
          ]
        },
        "outputId": "695490b2-c9eb-42bc-c8ce-5f1859c26580"
      },
      "source": [
        "import torch\n",
        "from transformers import BertForQuestionAnswering\n",
        "from transformers import BertTokenizer\n",
        "\n",
        "model = BertForQuestionAnswering.from_pretrained('bert-large-uncased-whole-word-masking-finetuned-squad')\n",
        "tokenizer = BertTokenizer.from_pretrained('bert-large-uncased-whole-word-masking-finetuned-squad')"
      ],
      "execution_count": null,
      "outputs": [
        {
          "output_type": "display_data",
          "data": {
            "application/vnd.jupyter.widget-view+json": {
              "model_id": "6bab476c50ae44ad87c8cc50191c3d99",
              "version_minor": 0,
              "version_major": 2
            },
            "text/plain": [
              "HBox(children=(FloatProgress(value=0.0, description='Downloading', max=443.0, style=ProgressStyle(description_…"
            ]
          },
          "metadata": {
            "tags": []
          }
        },
        {
          "output_type": "stream",
          "text": [
            "\n"
          ],
          "name": "stdout"
        },
        {
          "output_type": "display_data",
          "data": {
            "application/vnd.jupyter.widget-view+json": {
              "model_id": "2957cb3841f645b18bdf1fde4d5ab6a6",
              "version_minor": 0,
              "version_major": 2
            },
            "text/plain": [
              "HBox(children=(FloatProgress(value=0.0, description='Downloading', max=1340675298.0, style=ProgressStyle(descr…"
            ]
          },
          "metadata": {
            "tags": []
          }
        },
        {
          "output_type": "stream",
          "text": [
            "\n"
          ],
          "name": "stdout"
        },
        {
          "output_type": "display_data",
          "data": {
            "application/vnd.jupyter.widget-view+json": {
              "model_id": "e41d05224bb245fcb3e8867f84ca3b27",
              "version_minor": 0,
              "version_major": 2
            },
            "text/plain": [
              "HBox(children=(FloatProgress(value=0.0, description='Downloading', max=231508.0, style=ProgressStyle(descripti…"
            ]
          },
          "metadata": {
            "tags": []
          }
        },
        {
          "output_type": "stream",
          "text": [
            "\n"
          ],
          "name": "stdout"
        }
      ]
    },
    {
      "cell_type": "markdown",
      "metadata": {
        "id": "SdCk18TVmvel"
      },
      "source": [
        "## BERT tokenizer et normalisation ##"
      ]
    },
    {
      "cell_type": "code",
      "metadata": {
        "id": "uXXRVF6Clrez"
      },
      "source": [
        "from scipy.special import softmax\r\n",
        "\r\n",
        "def argmax(l):\r\n",
        "  f = lambda i: l[i]\r\n",
        "  return max(range(len(l)), key=f)\r\n",
        "\r\n",
        "def global_normalize(question, answer_texts):\r\n",
        "\r\n",
        "  paragraph_start_scores = []\r\n",
        "  paragraph_end_scores = []\r\n",
        "  paragraph_input_ids = []\r\n",
        "\r\n",
        "  normalized_s_scores = []\r\n",
        "  concat_s_scores = []\r\n",
        "\r\n",
        "  normalized_e_scores = []\r\n",
        "  concat_e_scores = []\r\n",
        "\r\n",
        "  len_answer_texts = []\r\n",
        "\r\n",
        "  count = 0\r\n",
        "\r\n",
        "  softmax_s = []\r\n",
        "  softmax_e = []\r\n",
        "\r\n",
        "  inputs_ids = []\r\n",
        "\r\n",
        "  for answer_text in answer_texts:\r\n",
        "\r\n",
        "    # Encode the input ids and segment ids with the built-in function from the huggingface library,\r\n",
        "    # truncating passages larger than 512 tokens (the limit for our pretrained BERT model)\r\n",
        "    encoded = tokenizer.encode_plus(text=question, text_pair=answer_text, add_special_tokens=True, truncation=True, max_length=512)\r\n",
        "    input_ids = encoded[\"input_ids\"]\r\n",
        "    segment_ids = encoded['token_type_ids']\r\n",
        "\r\n",
        "    # There should be a segment_id for every input token.\r\n",
        "    assert len(segment_ids) == len(input_ids)\r\n",
        "\r\n",
        "    model_outputs = model(torch.tensor([input_ids]), token_type_ids=torch.tensor([segment_ids]))\r\n",
        "    start_scores = model_outputs[0]\r\n",
        "    end_scores = model_outputs[1]\r\n",
        "\r\n",
        "    len_answer_texts.append(len(start_scores.detach().numpy().flatten()))\r\n",
        "\r\n",
        "    concat_s_scores += list(start_scores.detach().numpy().flatten())\r\n",
        "    concat_e_scores += list(end_scores.detach().numpy().flatten())\r\n",
        "\r\n",
        "    # Store necessary information for easier string extraction later in correct paragraph\r\n",
        "    paragraph_start_scores.append(start_scores)\r\n",
        "    paragraph_end_scores.append(end_scores)\r\n",
        "    paragraph_input_ids.append(input_ids)\r\n",
        "  \r\n",
        "  softmax_s = softmax(concat_s_scores)\r\n",
        "  softmax_e = softmax(concat_e_scores)\r\n",
        "\r\n",
        "  #Reconstruct normalized pars:\r\n",
        "  for i in range(len(answer_texts)):\r\n",
        "    normalized_s_scores.append(list(softmax_s[count:count+len_answer_texts[i]]))\r\n",
        "    normalized_e_scores.append(list(softmax_e[count:count+len_answer_texts[i]]))\r\n",
        "    count = len_answer_texts[i]\r\n",
        "\r\n",
        "  arg_max = argmax(softmax_s)\r\n",
        "\r\n",
        "  pointer = len_answer_texts[0]\r\n",
        "\r\n",
        "  i = 0\r\n",
        "  #find which paragraph has the highest probability\r\n",
        "  while pointer < arg_max:\r\n",
        "    i += 1\r\n",
        "    pointer += len_answer_texts[i]\r\n",
        "\r\n",
        "  # Return the paragraph containing the best answer, along with its best start and end scores and input ids (for reconstruction)\r\n",
        "  return i, paragraph_input_ids[i], paragraph_start_scores[i], paragraph_end_scores[i]"
      ],
      "execution_count": null,
      "outputs": []
    },
    {
      "cell_type": "markdown",
      "metadata": {
        "id": "tx5nKV68357h"
      },
      "source": [
        "## Reconstruction du passage à partir des scores et le texte original ##\r\n"
      ]
    },
    {
      "cell_type": "code",
      "metadata": {
        "id": "X3ZH5oWO33Gm"
      },
      "source": [
        "import collections\n",
        "import regex\n",
        "from difflib import SequenceMatcher\n",
        "\n",
        "def reconstruct_answer(answer_text, input_ids, start_score, end_score):\n",
        "    # preliminary predictions based on start and end indexes\n",
        "    PrelimPrediction = collections.namedtuple( \n",
        "        \"PrelimPrediction\", [\"start_index\", \"end_index\", \"score\"]\n",
        "    )\n",
        "    # best predictions containing the original text (if possible) obtained with fuzzy regex string matching\n",
        "    BestPrediction = collections.namedtuple(\n",
        "        \"BestPrediction\", [\"text\", \"score\"]\n",
        "    )\n",
        "\n",
        "    # Internal method to convert a tensor to a list\n",
        "    def to_list(tensor):\n",
        "        return tensor.detach().cpu().tolist()\n",
        "\n",
        "    # Convert our start and end logit tensors to lists\n",
        "    start_logits = to_list(start_score)[0]\n",
        "    end_logits = to_list(end_score)[0]\n",
        "\n",
        "    # Sort our start and end logits from largest to smallest, keeping track of the index\n",
        "    start_idx_and_logit = sorted(enumerate(start_logits), key=lambda x: x[1], reverse=True)\n",
        "    end_idx_and_logit = sorted(enumerate(end_logits), key=lambda x: x[1], reverse=True)\n",
        "\n",
        "    start_indexes = [idx for idx, logit in start_idx_and_logit[:5]]\n",
        "    end_indexes = [idx for idx, logit in end_idx_and_logit[:5]]\n",
        "\n",
        "    tokens = tokenizer.convert_ids_to_tokens(input_ids)\n",
        "\n",
        "    # question tokens are defined as those between the CLS token (101, at position 0) and first SEP (102) token \n",
        "    question_indexes = [i+1 for i, token in enumerate(tokens[1:tokens.index(\"[SEP]\")])]\n",
        "\n",
        "    # Sanity check so that the answer span we are looking for does not start before the end and does not include any part of the question\n",
        "    prelim_preds = []\n",
        "    for start_index in start_indexes:\n",
        "        for end_index in end_indexes:\n",
        "            # throw out invalid predictions\n",
        "            if start_index in question_indexes:\n",
        "                continue\n",
        "            if end_index in question_indexes:\n",
        "                continue\n",
        "            if end_index < start_index:\n",
        "                continue\n",
        "            prelim_preds.append(\n",
        "                PrelimPrediction(\n",
        "                    start_index = start_index,\n",
        "                    end_index = end_index,\n",
        "                    score = start_logits[start_index] + end_logits[end_index]\n",
        "                )\n",
        "            )\n",
        "\n",
        "    # Sort so that the highest scores are first\n",
        "    prelim_preds = sorted(prelim_preds, key=lambda x: (x.score), reverse=True)\n",
        "\n",
        "    nbest = []\n",
        "    seen_predictions = []\n",
        "\n",
        "    for pred in prelim_preds:\n",
        "        # for now we only care about the top 5 best predictions\n",
        "        if len(nbest) >= 5: \n",
        "            break\n",
        "            \n",
        "        # loop through predictions according to their start index\n",
        "        if pred.start_index > 0: # non-null answers have start_index > 0\n",
        "            text = tokenizer.convert_tokens_to_string(tokens[pred.start_index:pred.end_index+1])\n",
        "\n",
        "            # Determine initial text by naively joining all tokens with a space\n",
        "            text = text.strip()\n",
        "            text = \" \".join(text.split())\n",
        "\n",
        "            # Use regex to try to match the naive text to the original source document (for better EM results)\n",
        "            # Escape the text so that special symbols does not interfere with our regex search\n",
        "            escaped_text = regex.escape(text)\n",
        "            ids = tokenizer.encode(escaped_text, add_special_tokens=False, truncation=True, max_length=512)\n",
        "            # The maximum number of errors we accept for our fuzzy logic string matching is log base 2 the number of answer tokens with string escaping to allow special characters\n",
        "            max_error = len(ids).bit_length()\n",
        "            # Set minimum error to 2 if it is below 2\n",
        "            max_error = 2 if max_error < 2 else max_error\n",
        "            max_error_string = f\"{{e<={max_error}}}\"\n",
        "            fuzzy_constraint = \"(\"+escaped_text+\")\"+max_error_string\n",
        "            regex_text = regex.findall(fuzzy_constraint,answer_text,flags=regex.BESTMATCH)\n",
        "            # If we don't find a regex match, just get the original naive text\n",
        "            if not len(regex_text) == 0:\n",
        "                regex_text = regex_text[0]\n",
        "                # The text matched by the regex in the source text must resemble the original answer\n",
        "                if SequenceMatcher(None, text, regex_text).ratio() >= 0.75:\n",
        "                    text = regex_text\n",
        "\n",
        "            if text in seen_predictions:\n",
        "                continue\n",
        "\n",
        "            # flag this text as being seen -- if we see it again, don't add it to the nbest list\n",
        "            seen_predictions.append(text) \n",
        "\n",
        "            # add this text prediction to a pruned list of the top 5 best predictions\n",
        "            nbest.append(BestPrediction(text=text, score=pred.score))\n",
        "\n",
        "    # Add null answer to our predictions\n",
        "    nbest.append(BestPrediction(text=\"<No Answer>\", score = start_logits[0] + end_logits[0]))\n",
        "\n",
        "    # The best answer span is the one with the highest combined logit start and end score\n",
        "    absolute_best = sorted(nbest, key=lambda x: (x.score), reverse=True)[0]\n",
        "\n",
        "    return absolute_best.text"
      ],
      "execution_count": null,
      "outputs": []
    },
    {
      "cell_type": "markdown",
      "metadata": {
        "id": "uaUa8uDOvyk3"
      },
      "source": [
        "## Answer Extraction ##"
      ]
    },
    {
      "cell_type": "code",
      "metadata": {
        "id": "V2zxoKV3KQj7"
      },
      "source": [
        "import math\r\n",
        "import random\r\n",
        "\r\n",
        "local_train_ids = pd.read_csv('question-answer-AI/data/train_ids.csv')\r\n",
        "number_tests = 100\r\n",
        "\r\n",
        "test_ids = local_train_ids[:number_tests]\r\n",
        "test_questions = test_ids[\"question\"].tolist()\r\n",
        "test_par_ids = test_ids[\"paragraph_id\"].tolist()\r\n",
        "test_par_ids = [[random.randint(0, len(corpus)) if math.isnan(par_id) else int(par_id)] for par_id in test_par_ids]\r\n",
        "test_answers = test_ids[\"answer\"].tolist()\r\n",
        "test_ids = test_ids[\"id\"].tolist()\r\n",
        "paragraphs = corpus['paragraph']"
      ],
      "execution_count": null,
      "outputs": []
    },
    {
      "cell_type": "code",
      "metadata": {
        "id": "xWYMyblJYMll",
        "colab": {
          "base_uri": "https://localhost:8080/",
          "height": 100,
          "referenced_widgets": [
            "c234d95095d24dc098ec549ad1188134",
            "e68c26e3803d4734931a3c8975fa96b2",
            "f4c60736f5c649ce8bb885a8feac7a5f",
            "2d3aa28d34e54915a5fd5b45ea4aa4fb",
            "103aab8015aa41f1aa734156199388d9",
            "3e9c22d0cc7a45a289fad71536ad70fe",
            "e4e5d25904164fa5baf5cba39455344e",
            "28b11baad4f1483f8c27e211a6174a77"
          ]
        },
        "outputId": "6afac8a2-1601-4e32-bb78-ffe00e5c07e9"
      },
      "source": [
        "%%time\n",
        "result_answers = []\n",
        "result_paragraph_id = []\n",
        "\n",
        "for test_question, result_par_id in tqdm(zip(test_questions, test_par_ids)):\n",
        "    \n",
        "    answer_texts = []\n",
        "    for id in result_par_id:\n",
        "        answer_texts.append(corpus.iloc[id, 1])\n",
        "\n",
        "    answer_paragraph_index, input_ids, start_logits, end_logits = global_normalize(test_question, answer_texts)\n",
        "    answer_string = reconstruct_answer(answer_texts[answer_paragraph_index], input_ids, start_logits, end_logits)\n",
        "\n",
        "    result_answers.append(answer_string)\n",
        "    result_paragraph_id.append(result_par_id[answer_paragraph_index])"
      ],
      "execution_count": null,
      "outputs": [
        {
          "output_type": "display_data",
          "data": {
            "application/vnd.jupyter.widget-view+json": {
              "model_id": "c234d95095d24dc098ec549ad1188134",
              "version_minor": 0,
              "version_major": 2
            },
            "text/plain": [
              "HBox(children=(FloatProgress(value=1.0, bar_style='info', max=1.0), HTML(value='')))"
            ]
          },
          "metadata": {
            "tags": []
          }
        },
        {
          "output_type": "stream",
          "text": [
            "\n",
            "CPU times: user 3min 34s, sys: 1.89 s, total: 3min 36s\n",
            "Wall time: 3min 36s\n"
          ],
          "name": "stdout"
        }
      ]
    },
    {
      "cell_type": "markdown",
      "metadata": {
        "id": "JsjS1kPDwIRQ"
      },
      "source": [
        "## Métriques ##\r\n",
        "Code tiré de: https://qa.fastforwardlabs.com/no%20answer/null%20threshold/bert/distilbert/exact%20match/f1/robust%20predictions/2020/06/09/Evaluating_BERT_on_SQuAD.html"
      ]
    },
    {
      "cell_type": "code",
      "metadata": {
        "id": "GrOa7nIrjatL"
      },
      "source": [
        "def normalize_text(s):\r\n",
        "    \"\"\"Removing articles and punctuation, and standardizing whitespace are all typical text processing steps.\"\"\"\r\n",
        "    import string, re\r\n",
        "\r\n",
        "    def remove_articles(text):\r\n",
        "        regex = re.compile(r\"\\b(a|an|the)\\b\", re.UNICODE)\r\n",
        "        return re.sub(regex, \" \", text)\r\n",
        "\r\n",
        "    def white_space_fix(text):\r\n",
        "        return \" \".join(text.split())\r\n",
        "\r\n",
        "    def remove_punc(text):\r\n",
        "        exclude = set(string.punctuation)\r\n",
        "        return \"\".join(ch for ch in text if ch not in exclude)\r\n",
        "\r\n",
        "    def lower(text):\r\n",
        "        return text.lower()\r\n",
        "\r\n",
        "    return white_space_fix(remove_articles(remove_punc(lower(s))))\r\n",
        "\r\n",
        "def compute_exact_match(prediction, truth):\r\n",
        "    return int(normalize_text(prediction) == normalize_text(truth))\r\n",
        "\r\n",
        "def compute_f1(prediction, truth):\r\n",
        "    pred_tokens = normalize_text(prediction).split()\r\n",
        "    truth_tokens = normalize_text(truth).split()\r\n",
        "    \r\n",
        "    # if either the prediction or the truth is no-answer then f1 = 1 if they agree, 0 otherwise\r\n",
        "    if len(pred_tokens) == 0 or len(truth_tokens) == 0:\r\n",
        "        return int(pred_tokens == truth_tokens)\r\n",
        "    \r\n",
        "    common_tokens = set(pred_tokens) & set(truth_tokens)\r\n",
        "    \r\n",
        "    # if there are no common tokens then f1 = 0\r\n",
        "    if len(common_tokens) == 0:\r\n",
        "        return 0\r\n",
        "    \r\n",
        "    prec = len(common_tokens) / len(pred_tokens)\r\n",
        "    rec = len(common_tokens) / len(truth_tokens)\r\n",
        "    \r\n",
        "    return 2 * (prec * rec) / (prec + rec)"
      ],
      "execution_count": null,
      "outputs": []
    },
    {
      "cell_type": "markdown",
      "metadata": {
        "id": "RccfWUH50fYA"
      },
      "source": [
        "### Métriques pour notre extraction de réponses ###"
      ]
    },
    {
      "cell_type": "code",
      "metadata": {
        "colab": {
          "base_uri": "https://localhost:8080/",
          "height": 100,
          "referenced_widgets": [
            "b1462d0523be4c07981e4a6553480215",
            "979f05b8ff754ab1ae3cab199557a4be",
            "b838638dcd1844cc8c417791926444cd",
            "3ec1ebf9f3884d98956cd745470a0ea5",
            "581a7e98ad584835a9cbca438663546a",
            "10b400788cce4c59a6c1f603db455170",
            "4ace0dc3831c48d7a7313b0dde74e6b3",
            "2709fa9ec95044cb87d9bfd9119d6b29"
          ]
        },
        "id": "NBjiocYQxtGD",
        "outputId": "41ffe0ab-27b6-455e-9b7f-21e856eda89f"
      },
      "source": [
        "number_answers = len(test_answers)\r\n",
        "EM_scores = []\r\n",
        "F1_scores = []\r\n",
        "\r\n",
        "for given_answer, ground_truth in tqdm(zip(result_answers, test_answers)):\r\n",
        "    EM_scores.append(compute_exact_match(given_answer, ground_truth))\r\n",
        "    F1_scores.append(compute_f1(given_answer, ground_truth))\r\n",
        "print(\"EM score: \" + str(np.sum(EM_scores)/number_answers))\r\n",
        "print(\"F1 score: \" + str(np.sum(F1_scores)/number_answers))"
      ],
      "execution_count": null,
      "outputs": [
        {
          "output_type": "display_data",
          "data": {
            "application/vnd.jupyter.widget-view+json": {
              "model_id": "b1462d0523be4c07981e4a6553480215",
              "version_minor": 0,
              "version_major": 2
            },
            "text/plain": [
              "HBox(children=(FloatProgress(value=1.0, bar_style='info', max=1.0), HTML(value='')))"
            ]
          },
          "metadata": {
            "tags": []
          }
        },
        {
          "output_type": "stream",
          "text": [
            "\n",
            "EM score: 0.51\n",
            "F1 score: 0.5689152274003438\n"
          ],
          "name": "stdout"
        }
      ]
    },
    {
      "cell_type": "markdown",
      "metadata": {
        "id": "F1jwb1WI0Xpu"
      },
      "source": [
        "### Métriques pour notre baseline ###"
      ]
    },
    {
      "cell_type": "code",
      "metadata": {
        "id": "Dp6l5sn_yTVW"
      },
      "source": [
        "def baseline_answer_question(question, answer_text):\r\n",
        "    '''\r\n",
        "    Takes a `question` string and an `answer_text` string (which contains the\r\n",
        "    answer), and identifies the words within the `answer_text` that are the\r\n",
        "    answer. Prints them out.\r\n",
        "    '''\r\n",
        "    # Encode the input ids and segment ids with the built-in function from the huggingface library,\r\n",
        "    # truncating passages larger than 512 tokens (the limit for our pretrained BERT model)\r\n",
        "    encoded = tokenizer.encode_plus(text=question, text_pair=answer_text, add_special_tokens=True, truncation=True, max_length=512)\r\n",
        "    input_ids = encoded[\"input_ids\"]\r\n",
        "    segment_ids = encoded['token_type_ids']\r\n",
        "\r\n",
        "    # There should be a segment_id for every input token.\r\n",
        "    assert len(segment_ids) == len(input_ids)\r\n",
        "\r\n",
        "    model_outputs = model(torch.tensor([input_ids]), token_type_ids=torch.tensor([segment_ids]))\r\n",
        "    start_scores = model_outputs[0]\r\n",
        "    end_scores = model_outputs[1]\r\n",
        "\r\n",
        "    # ======== Reconstruct Answer ========\r\n",
        "    # Find the tokens with the highest `start` and `end` scores.\r\n",
        "    answer_start = torch.argmax(start_scores)\r\n",
        "    answer_end = torch.argmax(end_scores)\r\n",
        "\r\n",
        "    # Get the string versions of the input tokens.\r\n",
        "    tokens = tokenizer.convert_ids_to_tokens(input_ids)\r\n",
        "\r\n",
        "    # Start with the first token.\r\n",
        "    answer = tokens[answer_start]\r\n",
        "\r\n",
        "    # Select the remaining answer tokens and join them with whitespace.\r\n",
        "    for i in range(answer_start + 1, answer_end + 1):\r\n",
        "        \r\n",
        "        # If it's a subword token, then recombine it with the previous token.\r\n",
        "        if tokens[i][0:2] == '##':\r\n",
        "            answer += tokens[i][2:]\r\n",
        "        \r\n",
        "        # Otherwise, add a space then the token.\r\n",
        "        else:\r\n",
        "            answer += ' ' + tokens[i]\r\n",
        "\r\n",
        "    return answer"
      ],
      "execution_count": null,
      "outputs": []
    },
    {
      "cell_type": "code",
      "metadata": {
        "colab": {
          "base_uri": "https://localhost:8080/",
          "height": 100,
          "referenced_widgets": [
            "03edb010ff4b467c8fa85856ec2e0741",
            "8151391e5df84f0b87aba39d5e9e5ad0",
            "8ebdc8ee2c0c47f1b48f49f65740efaa",
            "409b4d957fa34347970173c07ffff57e",
            "66114310401f4792a50f55bca6609783",
            "e998a613e6504d629beb919579cc409f",
            "9988c419dee64cc790f0cc0f11ac79fb",
            "0af2dfac8276458da50e000033f80100"
          ]
        },
        "id": "KhOsTStSyruV",
        "outputId": "ebfce92e-d6fa-4e22-9469-5aa8da34077e"
      },
      "source": [
        "%%time\r\n",
        "baseline_result_answers = []\r\n",
        "\r\n",
        "for test_question, result_par_id in tqdm(zip(test_questions, test_par_ids)):\r\n",
        "    answer_string = baseline_answer_question(test_question, corpus.iloc[result_par_id[0], 1])\r\n",
        "    baseline_result_answers.append(answer_string)"
      ],
      "execution_count": null,
      "outputs": [
        {
          "output_type": "display_data",
          "data": {
            "application/vnd.jupyter.widget-view+json": {
              "model_id": "03edb010ff4b467c8fa85856ec2e0741",
              "version_minor": 0,
              "version_major": 2
            },
            "text/plain": [
              "HBox(children=(FloatProgress(value=1.0, bar_style='info', max=1.0), HTML(value='')))"
            ]
          },
          "metadata": {
            "tags": []
          }
        },
        {
          "output_type": "stream",
          "text": [
            "\n",
            "CPU times: user 2min 22s, sys: 1.86 s, total: 2min 24s\n",
            "Wall time: 2min 24s\n"
          ],
          "name": "stdout"
        }
      ]
    },
    {
      "cell_type": "code",
      "metadata": {
        "colab": {
          "base_uri": "https://localhost:8080/",
          "height": 100,
          "referenced_widgets": [
            "cb57c3fad3814bdfa2f0bd86a746e3f9",
            "6a2f0d4906374d67a0af635e4c1a5d43",
            "7b775646531f4e76ac8b184148b964b2",
            "3d9083576229474c9690a257b01993f1",
            "585f4276327e414b86b5ebfa6edb80aa",
            "b1f0107c5d434e6faf5bd674867b35d8",
            "fb4c14f33f804cefaa4b79874451d449",
            "c648fd5ae2fc41a78f3fcd6e9faeb6bb"
          ]
        },
        "id": "tSTv6Mdi0JAS",
        "outputId": "5b453e34-76a2-41c0-9ad0-a454043b8072"
      },
      "source": [
        "baseline_number_answers = len(baseline_result_answers)\r\n",
        "baseline_EM_scores = []\r\n",
        "baseline_F1_scores = []\r\n",
        "\r\n",
        "for prediction, answer in tqdm(zip(baseline_result_answers, test_answers)):\r\n",
        "    baseline_EM_scores.append(compute_exact_match(prediction, answer))\r\n",
        "    baseline_F1_scores.append(compute_f1(prediction, answer))\r\n",
        "print(\"EM score: \" + str(np.sum(baseline_EM_scores)/number_answers))\r\n",
        "print(\"F1 score: \" + str(np.sum(baseline_F1_scores)/number_answers))"
      ],
      "execution_count": null,
      "outputs": [
        {
          "output_type": "display_data",
          "data": {
            "application/vnd.jupyter.widget-view+json": {
              "model_id": "cb57c3fad3814bdfa2f0bd86a746e3f9",
              "version_minor": 0,
              "version_major": 2
            },
            "text/plain": [
              "HBox(children=(FloatProgress(value=1.0, bar_style='info', max=1.0), HTML(value='')))"
            ]
          },
          "metadata": {
            "tags": []
          }
        },
        {
          "output_type": "stream",
          "text": [
            "\n",
            "EM score: 0.48\n",
            "F1 score: 0.5374697247197248\n"
          ],
          "name": "stdout"
        }
      ]
    }
  ]
}